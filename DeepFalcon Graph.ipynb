{
 "cells": [
  {
   "cell_type": "code",
   "execution_count": 67,
   "metadata": {},
   "outputs": [],
   "source": [
    "import torch\n",
    "import torchvision\n",
    "import numpy as np\n",
    "from matplotlib import pyplot\n",
    "import h5py\n",
    "from torch_geometric.data import Dataset, Data"
   ]
  },
  {
   "cell_type": "code",
   "execution_count": 68,
   "metadata": {},
   "outputs": [],
   "source": [
    "DATA_SIZE=800\n",
    "LR=0.01\n",
    "BATCH_SIZE=32\n",
    "HIDDEN_LAYERS=32\n",
    "EPOCHS=2"
   ]
  },
  {
   "cell_type": "code",
   "execution_count": 69,
   "metadata": {},
   "outputs": [
    {
     "name": "stdout",
     "output_type": "stream",
     "text": [
      "<KeysViewHDF5 ['X_jets', 'm0', 'pt', 'y']>\n"
     ]
    }
   ],
   "source": [
    "f = h5py.File('quark-gluon_data-set_n139306.hdf5')\n",
    "print(f.keys())\n",
    "XJets = f['X_jets']\n",
    "lables = f['y']"
   ]
  },
  {
   "cell_type": "code",
   "execution_count": 70,
   "metadata": {},
   "outputs": [],
   "source": [
    "import numpy as np\n",
    "def non0(arr):\n",
    "    ax = len(arr.shape)-1\n",
    "    return arr[~np.all(arr==0,axis=ax)]\n",
    "\n",
    "def get_edges(arr): #returns edges and edge attr\n",
    "    ret = np.array([[0,0]])\n",
    "    for i in range(arr.shape[-1]):\n",
    "        a = arr[:,i]\n",
    "        temp = [[i,j] if (a[i]!=0 and a[j]!=0) else [0,0] for i in range(len(a)) for j in range(i+1,len(a))]\n",
    "        temp = non0(np.array(temp))\n",
    "        ret = np.append(ret,temp,axis=0)\n",
    "    return np.unique(ret[1:],return_counts=True,axis=0)\n"
   ]
  },
  {
   "cell_type": "code",
   "execution_count": 71,
   "metadata": {},
   "outputs": [],
   "source": [
    "def read_data(start_idx=0,stop_idx=DATA_SIZE):\n",
    "    graph_list = []\n",
    "    for i in range(start_idx,stop_idx):\n",
    "        g  = Data()\n",
    "        nodes = non0(XJets[i])\n",
    "        g.x = torch.Tensor(nodes)\n",
    "        edges  = torch.transpose(get_edges(nodes)).int()\n",
    "        g.edge_index = torch.Tensor(edges[0])\n",
    "        g.edge_attr = torch.Tensor(edges[1])\n",
    "        g.y = torch.Tensor(lables[i]).long()\n",
    "        if i%20==0 : print(g,i)\n",
    "        graph_list.append(g)\n",
    "    torch.save(graph_list,'./graph_data_1.pt')\n",
    "    return graph_list"
   ]
  },
  {
   "cell_type": "code",
   "execution_count": 72,
   "metadata": {},
   "outputs": [],
   "source": [
    "from torch.nn import Linear,Sigmoid,ReLU\n",
    "import torch.nn.functional as F\n",
    "from torch_geometric.nn import GCNConv\n",
    "from torch_geometric.nn import global_mean_pool\n",
    "\n",
    "class GCN(torch.nn.Module):\n",
    "    def __init__(self,hidden_channels,node_features:int=3,num_classes:int=2):\n",
    "        super(GCN, self).__init__()\n",
    "        torch.manual_seed(42)\n",
    "        self.conv1 = GCNConv(node_features, hidden_channels)\n",
    "        self.conv2 = GCNConv(hidden_channels, hidden_channels)\n",
    "        self.conv3 = GCNConv(hidden_channels, hidden_channels)\n",
    "        self.conv4 = GCNConv(hidden_channels, hidden_channels)\n",
    "        self.lin = Linear(hidden_channels,num_classes)\n",
    "        self.sigmoid = Sigmoid()\n",
    "        self.relu = ReLU()\n",
    "\n",
    "    def forward(self, x, edge_index, batch):\n",
    "        x = (x - torch.mean(x))/torch.std(x)\n",
    "        x = self.conv1(x, edge_index)\n",
    "        x = self.relu(x)\n",
    "        x = self.conv2(x, edge_index)\n",
    "        x = self.relu(x)\n",
    "        x = self.conv3(x, edge_index)\n",
    "        x = self.relu(x)\n",
    "        x = self.conv4(x, edge_index)\n",
    "\n",
    "        x = global_mean_pool(x, batch)\n",
    "\n",
    "        # x = F.dropout(x, p=0.5, training=self.training)\n",
    "        x = self.lin(x)\n",
    "        return self.sigmoid(x)"
   ]
  },
  {
   "cell_type": "code",
   "execution_count": 73,
   "metadata": {},
   "outputs": [],
   "source": [
    "def train(model,train_loader,optimizer,criterion):\n",
    "\n",
    "    model.train()\n",
    "    losses = []\n",
    "    for data in train_loader:\n",
    "        out = model(data.x, data.edge_index, data.batch)\n",
    "        # loss = criterion(out, torch.Tensor(data.y).long())\n",
    "        loss = criterion(out, data.y)\n",
    "\n",
    "        loss.backward()\n",
    "        optimizer.step()\n",
    "        optimizer.zero_grad()\n",
    "        print('LOSS',loss.detach().numpy())\n",
    "        losses.append(loss.detach().numpy())\n",
    "    pyplot.plot(losses)\n",
    "    pyplot.show()\n",
    "    print('Loss Mean and Std Dev',np.array(losses).mean(),np.array(losses).std())\n",
    "\n",
    "def test(loader):\n",
    "    model.eval()\n",
    "    correct = 0\n",
    "    for data in loader:\n",
    "        out = model(data.x, data.edge_index, data.batch)  \n",
    "        pred = out.argmax(dim=1)\n",
    "        # correct += int((pred == torch.Tensor(data.y).long()).sum())\n",
    "        correct += int((pred == data.y).sum())\n",
    "\n",
    "    return correct / len(loader.dataset)"
   ]
  },
  {
   "cell_type": "code",
   "execution_count": 74,
   "metadata": {},
   "outputs": [
    {
     "name": "stdout",
     "output_type": "stream",
     "text": [
      "GCN(\n",
      "  (conv1): GCNConv(3, 32)\n",
      "  (conv2): GCNConv(32, 32)\n",
      "  (conv3): GCNConv(32, 32)\n",
      "  (conv4): GCNConv(32, 32)\n",
      "  (lin): Linear(in_features=32, out_features=2, bias=True)\n",
      "  (sigmoid): Sigmoid()\n",
      "  (relu): ReLU()\n",
      ")\n",
      "LOSS 0.6967094\n",
      "LOSS 0.6924368\n",
      "LOSS 0.69199926\n",
      "LOSS 0.701483\n",
      "LOSS 0.68950665\n",
      "LOSS 0.7007078\n",
      "LOSS 0.6909888\n",
      "LOSS 0.6869156\n",
      "LOSS 0.68960893\n",
      "LOSS 0.68321836\n",
      "LOSS 0.6973031\n",
      "LOSS 0.68637425\n",
      "LOSS 0.68898207\n",
      "LOSS 0.68731403\n",
      "LOSS 0.6787316\n",
      "LOSS 0.68590504\n",
      "LOSS 0.7152396\n",
      "LOSS 0.7264822\n",
      "LOSS 0.7122643\n"
     ]
    },
    {
     "data": {
      "image/png": "[encoded data removed]",
      "text/plain": [
       "<Figure size 432x288 with 1 Axes>"
      ]
     },
     "metadata": {
      "needs_background": "light"
     },
     "output_type": "display_data"
    },
    {
     "name": "stdout",
     "output_type": "stream",
     "text": [
      "Loss Mean and Std Dev 0.6948511 0.011683054\n",
      "Epoch: 001, Train Acc: 0.5233\n",
      "LOSS 0.69463056\n",
      "LOSS 0.6979232\n",
      "LOSS 0.6719834\n",
      "LOSS 0.700174\n",
      "LOSS 0.7158583\n",
      "LOSS 0.7073193\n",
      "LOSS 0.69068474\n",
      "LOSS 0.70785475\n",
      "LOSS 0.68757874\n",
      "LOSS 0.6884134\n",
      "LOSS 0.6849166\n",
      "LOSS 0.6976535\n",
      "LOSS 0.6877029\n",
      "LOSS 0.68511236\n",
      "LOSS 0.69037896\n",
      "LOSS 0.68842745\n",
      "LOSS 0.68829787\n",
      "LOSS 0.69121355\n",
      "LOSS 0.68998957\n"
     ]
    },
    {
     "data": {
      "image/png": "[encoded data removed]",
      "text/plain": [
       "<Figure size 432x288 with 1 Axes>"
      ]
     },
     "metadata": {
      "needs_background": "light"
     },
     "output_type": "display_data"
    },
    {
     "name": "stdout",
     "output_type": "stream",
     "text": [
      "Loss Mean and Std Dev 0.6929533 0.00963389\n",
      "Epoch: 002, Train Acc: 0.5133\n"
     ]
    }
   ],
   "source": [
    "from torch_geometric.loader import DataLoader\n",
    "\n",
    "train_ds = torch.load('./graph_data_1.pt') \n",
    "train_ds = [Data(x=i.x,edge_index=torch.transpose(i.edge_index,0,1).long(),edge_attr=i.edge_attr,y=torch.Tensor([i.y]).long()) for i in train_ds]\n",
    "train_loader = DataLoader(train_ds,batch_size=BATCH_SIZE,shuffle=True)\n",
    "model = GCN(hidden_channels=HIDDEN_LAYERS)\n",
    "print(model)\n",
    "optimizer = torch.optim.Adam(model.parameters(), lr=LR)\n",
    "# criterion = torch.nn.BCEWithLogitsLoss()\n",
    "criterion = torch.nn.CrossEntropyLoss()\n",
    "\n",
    "\n",
    "for epoch in range(1, EPOCHS+1):\n",
    "    train(model,train_loader,optimizer,criterion)\n",
    "    train_acc = test(train_loader)\n",
    "    # test_acc = test(test_loader)\n",
    "    print(f'Epoch: {epoch:03d}, Train Acc: {train_acc:.4f}')\n",
    "\n"
   ]
  },
  {
   "cell_type": "code",
   "execution_count": 75,
   "metadata": {},
   "outputs": [
    {
     "name": "stdout",
     "output_type": "stream",
     "text": [
      "0.5\n"
     ]
    }
   ],
   "source": [
    "test_ds = torch.load('./graph_data_0.pt')\n",
    "test_ds = [Data(x=i.x,edge_index=torch.transpose(i.edge_index,0,1).long(),edge_attr=i.edge_attr,y=torch.Tensor([i.y]).long()) for i in test_ds]\n",
    "test_loader = DataLoader(test_ds,batch_size=BATCH_SIZE,shuffle=True)\n",
    "test_acc = test(test_loader)\n",
    "print(test_acc)"
   ]
  }
 ],
 "metadata": {
  "kernelspec": {
   "display_name": "Python 3",
   "language": "python",
   "name": "python3"
  },
  "language_info": {
   "codemirror_mode": {
    "name": "ipython",
    "version": 3
   },
   "file_extension": ".py",
   "mimetype": "text/x-python",
   "name": "python",
   "nbconvert_exporter": "python",
   "pygments_lexer": "ipython3",
   "version": "3.10.0"
  },
  "orig_nbformat": 4
 },
 "nbformat": 4,
 "nbformat_minor": 2
}
