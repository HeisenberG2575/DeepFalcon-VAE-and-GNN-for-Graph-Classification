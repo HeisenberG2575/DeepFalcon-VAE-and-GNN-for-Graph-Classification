{
 "cells": [
  {
   "cell_type": "code",
   "execution_count": 3,
   "metadata": {},
   "outputs": [],
   "source": [
    "import h5py\n",
    "import numpy as np\n",
    "import torch\n",
    "from torch import nn\n",
    "from torch.nn import functional as F\n",
    "from tqdm import tqdm\n",
    "import sys\n",
    "from torchvision.transforms import Resize\n",
    "from matplotlib import pyplot"
   ]
  },
  {
   "cell_type": "code",
   "execution_count": 4,
   "metadata": {},
   "outputs": [],
   "source": [
    "BATCH_SIZE=1024\n",
    "KLD_WEIGHT=1e-4\n",
    "LR=0.001\n",
    "epochs=3"
   ]
  },
  {
   "cell_type": "code",
   "execution_count": 8,
   "metadata": {},
   "outputs": [],
   "source": [
    "\n",
    "\n",
    "class VAE(nn.Module):\n",
    "    def __init__(self,input_dim:int=50*50*3,latent_dim:int=16):\n",
    "        super(VAE,self).__init__()\n",
    "        self.device = 'cuda' if torch.cuda.is_available() else 'cpu'\n",
    "        self.encoder =  nn.Sequential(nn.Linear(input_dim,2048,device=self.device,dtype=torch.float64),\n",
    "                                      nn.ReLU(),\n",
    "                                      nn.Linear(2048,512,device=self.device,dtype=torch.float64),\n",
    "                                      nn.ReLU(),\n",
    "                                      nn.Linear(512,128,device=self.device,dtype=torch.float64),\n",
    "                                      nn.ReLU())\n",
    "        self.logvar = nn.Linear(128,latent_dim,device=self.device,dtype=torch.float64)\n",
    "        self.mu = nn.Linear(128,latent_dim,device=self.device,dtype=torch.float64)\n",
    "        self.decoder = nn.Sequential(nn.Linear(latent_dim,128,device=self.device,dtype=torch.float64),\n",
    "                                      nn.ReLU(),\n",
    "                                      nn.Linear(128,512,device=self.device,dtype=torch.float64),\n",
    "                                      nn.ReLU(),\n",
    "                                      nn.Linear(512,2048,device=self.device,dtype=torch.float64),\n",
    "                                      nn.ReLU(),\n",
    "                                      nn.Linear(2048,input_dim,device=self.device,dtype=torch.float64),\n",
    "                                      nn.ReLU())\n",
    "        self.latent_dim = latent_dim\n",
    "\n",
    "    def reparameterise(self, mu, logvar):\n",
    "        if self.training:\n",
    "            std = logvar.mul(0.5).exp_()\n",
    "            eps = torch.randn_like(std)\n",
    "            return eps.mul(std).add_(mu)\n",
    "        else:\n",
    "            return mu\n",
    "        \n",
    "    def encode(self, x):\n",
    "        pre_final = self.encoder(x)\n",
    "        mu = self.mu(pre_final)\n",
    "        logvar = self.logvar(pre_final)\n",
    "        z = self.reparameterise(mu, logvar)\n",
    "        return z, mu, logvar  \n",
    "    \n",
    "    def decode(self, z):\n",
    "        out = self.decoder(z)\n",
    "        return out\n",
    "    \n",
    "    def forward(self, x):\n",
    "        z, mu, logvar = self.encode(x)\n",
    "        x_hat = self.decode(z)\n",
    "        return x_hat, mu, logvar\n",
    "        "
   ]
  },
  {
   "cell_type": "code",
   "execution_count": 5,
   "metadata": {},
   "outputs": [
    {
     "name": "stdout",
     "output_type": "stream",
     "text": [
      "<KeysViewHDF5 ['X_jets', 'm0', 'pt', 'y']>\n",
      "<HDF5 dataset \"X_jets\": shape (139306, 125, 125, 3), type \"<f4\">\n",
      "<HDF5 dataset \"m0\": shape (139306,), type \"<f4\">\n",
      "<HDF5 dataset \"pt\": shape (139306,), type \"<f4\">\n",
      "<HDF5 dataset \"y\": shape (139306,), type \"<f4\">\n"
     ]
    }
   ],
   "source": [
    "from torch.utils.data import Dataset\n",
    "\n",
    "f =  h5py.File('quark-gluon_data-set_n139306.hdf5', 'r')\n",
    "print(f.keys())\n",
    "XJets = f['X_jets']\n",
    "m0 = f['m0']\n",
    "pt = f['pt']\n",
    "y = f['y']\n",
    "print(XJets)\n",
    "print(m0)\n",
    "print(pt)\n",
    "print(y)\n",
    "\n",
    "class HDF5DataSet(Dataset):\n",
    "    \n",
    "    def __init__(self, x):\n",
    "        self.batch_size=BATCH_SIZE\n",
    "        self.x = x\n",
    "\n",
    "    def __len__(self):\n",
    "        return self.x.shape[0]\n",
    "\n",
    "    def __getitem__(self, idx):\n",
    "        samplex = Resize((50,50))(torch.permute(torch.tensor(self.x[idx:BATCH_SIZE], dtype= torch.float64),(0,3,1,2))).reshape(-1,50*50*3)\n",
    "        # samplex = torch.tensor(self.x[idx:BATCH_SIZE], dtype= torch.float64).reshape(-1,50*50*3)\n",
    "        return (samplex-samplex.min())/(samplex.max()-samplex.min())*255\n",
    "    "
   ]
  },
  {
   "cell_type": "code",
   "execution_count": 6,
   "metadata": {},
   "outputs": [
    {
     "data": {
      "image/png": "[encoded data removed]",
      "text/plain": [
       "<Figure size 432x288 with 1 Axes>"
      ]
     },
     "metadata": {
      "needs_background": "light"
     },
     "output_type": "display_data"
    },
    {
     "name": "stderr",
     "output_type": "stream",
     "text": [
      "c:\\Users\\Aditya Choudhary\\AppData\\Local\\Programs\\Python\\Python310\\lib\\site-packages\\torchvision\\transforms\\functional.py:1603: UserWarning: The default value of the antialias parameter of all the resizing transforms (Resize(), RandomResizedCrop(), etc.) will change from None to True in v0.17, in order to be consistent across the PIL and Tensor backends. To suppress this warning, directly pass antialias=True (recommended, future default), antialias=None (current default, which means False for Tensors and True for PIL), or antialias=False (only works on Tensors - PIL will still use antialiasing). This also applies if you are using the inference transforms from the models weights: update the call to weights.transforms(antialias=True).\n",
      "  warnings.warn(\n",
      "Clipping input data to the valid range for imshow with RGB data ([0..1] for floats or [0..255] for integers).\n"
     ]
    },
    {
     "data": {
      "image/png": "[encoded data removed]",
      "text/plain": [
       "<Figure size 432x288 with 1 Axes>"
      ]
     },
     "metadata": {
      "needs_background": "light"
     },
     "output_type": "display_data"
    },
    {
     "name": "stderr",
     "output_type": "stream",
     "text": [
      "Clipping input data to the valid range for imshow with RGB data ([0..1] for floats or [0..255] for integers).\n"
     ]
    },
    {
     "data": {
      "image/png": "[encoded data removed]",
      "text/plain": [
       "<Figure size 432x288 with 1 Axes>"
      ]
     },
     "metadata": {
      "needs_background": "light"
     },
     "output_type": "display_data"
    }
   ],
   "source": [
    "s = (torch.tensor(XJets[60000], dtype= torch.float64))\n",
    "pyplot.imshow(s)\n",
    "pyplot.show()\n",
    "s=(s-s.min())/(s.max()-s.min())*255\n",
    "# pyplot.imshow((torch.permute(s,(2,0,1))))\n",
    "# pyplot.show()\n",
    "x = torch.permute(Resize((50,50))(torch.permute(s,(2,0,1))).reshape(-1,50*50*3).reshape(3,50,50),(1,2,0))\n",
    "from matplotlib import pyplot\n",
    "pyplot.imshow(s)\n",
    "pyplot.show()\n",
    "pyplot.imshow(x)\n",
    "pyplot.show()"
   ]
  },
  {
   "cell_type": "code",
   "execution_count": 7,
   "metadata": {},
   "outputs": [],
   "source": [
    "def visual(im):\n",
    "    import cv2\n",
    "    import time\n",
    "    im = XJets[15000]\n",
    "    im = (im-im.min())/(im.max()-im.min())*255\n",
    "    e,h,t=cv2.split(im)\n",
    "    cv2.imshow('image',im)\n",
    "    cv2.imshow('ecal',e)\n",
    "    cv2.imshow('hcal',h)\n",
    "    cv2.imshow('track',t)\n",
    "    time.sleep(1)\n",
    "    cv2.destroyAllWindows()"
   ]
  },
  {
   "cell_type": "code",
   "execution_count": 15,
   "metadata": {},
   "outputs": [],
   "source": [
    "def vae_loss(true_data, reconstructed_data, mu, logvar, validate=False):\n",
    "    mse = nn.MSELoss()\n",
    "    mse_loss = mse(reconstructed_data, true_data)\n",
    "    if not validate:\n",
    "        kld_loss = -0.5 * torch.mean(1 + logvar - mu.pow(2) - logvar.exp())\n",
    "        return mse_loss + KLD_WEIGHT*kld_loss, mse_loss, KLD_WEIGHT*kld_loss\n",
    "    else:\n",
    "        return mse_loss\n",
    "    \n",
    "def fit(model, train_dl, train_ds, optimizer):\n",
    "    print(\"### Beginning Training\")\n",
    "\n",
    "    model.train()\n",
    "\n",
    "    running_loss = 0.0\n",
    "    counter = 0\n",
    "    # n_data = int(len(train_ds) / BATCH_SIZE)\n",
    "    n_data=len(sampler)\n",
    "    for inputs in tqdm(train_dl, total=n_data, desc=\"# Training\"):\n",
    "        counter += 1\n",
    "        inputs = inputs.to(model.device)\n",
    "        optimizer.zero_grad()\n",
    "        reconstructions, mu, logvar = model(inputs)\n",
    "        # print(mu)\n",
    "        loss, mse_loss, kld_loss = vae_loss(inputs,reconstructions,mu,logvar)\n",
    "        mse.append(mse_loss)\n",
    "        kld.append(kld_loss)\n",
    "        print('LOSS',loss.item(),mse_loss.item(),kld_loss.item())\n",
    "        loss.backward()\n",
    "        optimizer.step()\n",
    "\n",
    "        running_loss += loss.item()\n",
    "\n",
    "    epoch_loss = running_loss / counter\n",
    "    print(f\"# Finished. Training Loss: {loss:.6f}\")\n",
    "    \n",
    "    return epoch_loss, mse_loss, kld_loss    \n",
    "    \n",
    "def test(model, test_dl, test_ds):\n",
    "    \n",
    "    print(\"### Beginning Training\")\n",
    "    model.eval()\n",
    "    running_loss = 0.0\n",
    "    counter = 0\n",
    "    n_data = len(test_sampler)\n",
    "    \n",
    "    with torch.no_grad():\n",
    "        for inputs in tqdm(test_dl, total=n_data, desc=\"# Training\"):\n",
    "            counter += 1\n",
    "            inputs = inputs.to(model.device)\n",
    "            reconstructions, mu, logvar = model(inputs)\n",
    "            # print(mu)\n",
    "            loss, mse_loss, kld_loss = vae_loss(inputs,reconstructions,mu,logvar)\n",
    "            print('TEST LOSS',loss.item(),mse_loss.item(),kld_loss.item())\n",
    "\n",
    "            running_loss += loss.item()\n",
    "\n",
    "        epoch_loss = running_loss / counter\n",
    "        print(f\"# Finished. Test Loss: {loss:.6f}\")\n",
    "        \n",
    "        return epoch_loss, mse_loss, kld_loss    \n",
    "\n"
   ]
  },
  {
   "cell_type": "code",
   "execution_count": 16,
   "metadata": {},
   "outputs": [
    {
     "name": "stdout",
     "output_type": "stream",
     "text": [
      "Epoch 1 of 3\n",
      "### Beginning Training\n"
     ]
    },
    {
     "name": "stderr",
     "output_type": "stream",
     "text": [
      "# Training:   0%|          | 0/70 [00:00<?, ?it/s]"
     ]
    },
    {
     "name": "stdout",
     "output_type": "stream",
     "text": [
      "LOSS 0.2346588709031237 0.2346586230829991 2.478201246176407e-07\n"
     ]
    },
    {
     "name": "stderr",
     "output_type": "stream",
     "text": [
      "# Training:   1%|▏         | 1/70 [00:06<07:42,  6.71s/it]"
     ]
    },
    {
     "name": "stdout",
     "output_type": "stream",
     "text": [
      "LOSS 0.23274700986104158 0.23274562535564006 1.384505401528321e-06\n"
     ]
    },
    {
     "name": "stderr",
     "output_type": "stream",
     "text": [
      "# Training:   3%|▎         | 2/70 [00:13<07:30,  6.62s/it]"
     ]
    },
    {
     "name": "stdout",
     "output_type": "stream",
     "text": [
      "LOSS 0.23108053998714517 0.23107853341560133 2.0065715438305097e-06\n"
     ]
    },
    {
     "name": "stderr",
     "output_type": "stream",
     "text": [
      "# Training:   4%|▍         | 3/70 [00:19<07:09,  6.41s/it]"
     ]
    },
    {
     "name": "stdout",
     "output_type": "stream",
     "text": [
      "LOSS 0.22913731259607337 0.22913261529276774 4.697303305624567e-06\n"
     ]
    },
    {
     "name": "stderr",
     "output_type": "stream",
     "text": [
      "# Training:   6%|▌         | 4/70 [00:25<06:53,  6.26s/it]"
     ]
    },
    {
     "name": "stdout",
     "output_type": "stream",
     "text": [
      "LOSS 0.22674325204358609 0.22672880146248028 1.4450581105789417e-05\n"
     ]
    },
    {
     "name": "stderr",
     "output_type": "stream",
     "text": [
      "# Training:   7%|▋         | 5/70 [00:31<06:52,  6.35s/it]"
     ]
    },
    {
     "name": "stdout",
     "output_type": "stream",
     "text": [
      "LOSS 0.22481906750938155 0.22477567852120328 4.338898817827438e-05\n"
     ]
    },
    {
     "name": "stderr",
     "output_type": "stream",
     "text": [
      "# Training:   9%|▊         | 6/70 [00:38<06:57,  6.52s/it]"
     ]
    },
    {
     "name": "stdout",
     "output_type": "stream",
     "text": [
      "LOSS 0.22127046994307903 0.22121822078336123 5.224915971780796e-05\n"
     ]
    },
    {
     "name": "stderr",
     "output_type": "stream",
     "text": [
      "# Training:  10%|█         | 7/70 [00:45<06:44,  6.41s/it]"
     ]
    },
    {
     "name": "stdout",
     "output_type": "stream",
     "text": [
      "LOSS 0.21840731722669637 0.21833913357572202 6.818365097436805e-05\n"
     ]
    },
    {
     "name": "stderr",
     "output_type": "stream",
     "text": [
      "# Training:  11%|█▏        | 8/70 [00:51<06:31,  6.31s/it]"
     ]
    },
    {
     "name": "stdout",
     "output_type": "stream",
     "text": [
      "LOSS 0.2158925315589446 0.2157768912187635 0.00011564034018111587\n"
     ]
    },
    {
     "name": "stderr",
     "output_type": "stream",
     "text": [
      "# Training:  13%|█▎        | 9/70 [00:57<06:20,  6.24s/it]"
     ]
    },
    {
     "name": "stdout",
     "output_type": "stream",
     "text": [
      "LOSS 0.2142643932477215 0.21409880337238918 0.00016558987533233751\n"
     ]
    },
    {
     "name": "stderr",
     "output_type": "stream",
     "text": [
      "# Training:  14%|█▍        | 10/70 [01:03<06:11,  6.19s/it]"
     ]
    },
    {
     "name": "stdout",
     "output_type": "stream",
     "text": [
      "LOSS 0.2129537349116334 0.21279785396207856 0.0001558809495548356\n"
     ]
    },
    {
     "name": "stderr",
     "output_type": "stream",
     "text": [
      "# Training:  16%|█▌        | 11/70 [01:09<06:01,  6.13s/it]"
     ]
    },
    {
     "name": "stdout",
     "output_type": "stream",
     "text": [
      "LOSS 0.21160677350656823 0.21140900617856379 0.00019776732800445767\n"
     ]
    },
    {
     "name": "stderr",
     "output_type": "stream",
     "text": [
      "# Training:  17%|█▋        | 12/70 [01:15<05:53,  6.09s/it]"
     ]
    },
    {
     "name": "stdout",
     "output_type": "stream",
     "text": [
      "LOSS 0.2106418045632612 0.21037547568386755 0.0002663288793936513\n"
     ]
    },
    {
     "name": "stderr",
     "output_type": "stream",
     "text": [
      "# Training:  19%|█▊        | 13/70 [01:21<05:45,  6.05s/it]"
     ]
    },
    {
     "name": "stdout",
     "output_type": "stream",
     "text": [
      "LOSS 0.20898132272677505 0.2087275663493402 0.000253756377434866\n"
     ]
    },
    {
     "name": "stderr",
     "output_type": "stream",
     "text": [
      "# Training:  20%|██        | 14/70 [01:27<05:42,  6.11s/it]"
     ]
    },
    {
     "name": "stdout",
     "output_type": "stream",
     "text": [
      "LOSS 0.2075435960010931 0.20725980987947162 0.00028378612162146774\n"
     ]
    },
    {
     "name": "stderr",
     "output_type": "stream",
     "text": [
      "# Training:  21%|██▏       | 15/70 [01:33<05:34,  6.08s/it]"
     ]
    },
    {
     "name": "stdout",
     "output_type": "stream",
     "text": [
      "LOSS 0.206875259830141 0.2065538695442647 0.0003213902858763021\n"
     ]
    },
    {
     "name": "stderr",
     "output_type": "stream",
     "text": [
      "# Training:  23%|██▎       | 16/70 [01:39<05:26,  6.05s/it]"
     ]
    },
    {
     "name": "stdout",
     "output_type": "stream",
     "text": [
      "LOSS 0.20468796322768051 0.20433480120577333 0.0003531620219071748\n"
     ]
    },
    {
     "name": "stderr",
     "output_type": "stream",
     "text": [
      "# Training:  24%|██▍       | 17/70 [01:45<05:18,  6.01s/it]"
     ]
    },
    {
     "name": "stdout",
     "output_type": "stream",
     "text": [
      "LOSS 0.2024548634650626 0.20208350097812078 0.00037136248694183535\n"
     ]
    },
    {
     "name": "stderr",
     "output_type": "stream",
     "text": [
      "# Training:  26%|██▌       | 18/70 [01:51<05:11,  6.00s/it]"
     ]
    },
    {
     "name": "stdout",
     "output_type": "stream",
     "text": [
      "LOSS 0.19982613053702813 0.19941664101379897 0.0004094895232291724\n"
     ]
    },
    {
     "name": "stderr",
     "output_type": "stream",
     "text": [
      "# Training:  27%|██▋       | 19/70 [01:57<05:07,  6.04s/it]"
     ]
    },
    {
     "name": "stdout",
     "output_type": "stream",
     "text": [
      "LOSS 0.19673148885341868 0.19622302047655057 0.0005084683768680918\n"
     ]
    },
    {
     "name": "stderr",
     "output_type": "stream",
     "text": [
      "# Training:  29%|██▊       | 20/70 [02:03<05:00,  6.01s/it]"
     ]
    },
    {
     "name": "stdout",
     "output_type": "stream",
     "text": [
      "LOSS 0.19426207238333218 0.1936250653518125 0.00063700703151966\n"
     ]
    },
    {
     "name": "stderr",
     "output_type": "stream",
     "text": [
      "# Training:  30%|███       | 21/70 [02:09<04:53,  5.98s/it]"
     ]
    },
    {
     "name": "stdout",
     "output_type": "stream",
     "text": [
      "LOSS 0.19211193353822145 0.19142333354385735 0.0006885999943641081\n"
     ]
    },
    {
     "name": "stderr",
     "output_type": "stream",
     "text": [
      "# Training:  31%|███▏      | 22/70 [02:15<04:47,  6.00s/it]"
     ]
    },
    {
     "name": "stdout",
     "output_type": "stream",
     "text": [
      "LOSS 0.19012808375476595 0.18943789132717678 0.0006901924275891696\n"
     ]
    },
    {
     "name": "stderr",
     "output_type": "stream",
     "text": [
      "# Training:  33%|███▎      | 23/70 [02:21<04:42,  6.00s/it]"
     ]
    },
    {
     "name": "stdout",
     "output_type": "stream",
     "text": [
      "LOSS 0.18909391819061255 0.1883996485502134 0.0006942696403991541\n"
     ]
    },
    {
     "name": "stderr",
     "output_type": "stream",
     "text": [
      "# Training:  34%|███▍      | 24/70 [02:27<04:36,  6.00s/it]"
     ]
    },
    {
     "name": "stdout",
     "output_type": "stream",
     "text": [
      "LOSS 0.18807337980867445 0.18739790247396695 0.0006754773347074939\n"
     ]
    },
    {
     "name": "stderr",
     "output_type": "stream",
     "text": [
      "# Training:  36%|███▌      | 25/70 [02:33<04:29,  6.00s/it]"
     ]
    },
    {
     "name": "stdout",
     "output_type": "stream",
     "text": [
      "LOSS 0.18737783149500287 0.1867037829549534 0.0006740485400494487\n"
     ]
    },
    {
     "name": "stderr",
     "output_type": "stream",
     "text": [
      "# Training:  37%|███▋      | 26/70 [02:39<04:27,  6.07s/it]"
     ]
    },
    {
     "name": "stdout",
     "output_type": "stream",
     "text": [
      "LOSS 0.1862329459053816 0.18554930788096036 0.0006836380244212557\n"
     ]
    },
    {
     "name": "stderr",
     "output_type": "stream",
     "text": [
      "# Training:  39%|███▊      | 27/70 [02:45<04:23,  6.12s/it]"
     ]
    },
    {
     "name": "stdout",
     "output_type": "stream",
     "text": [
      "LOSS 0.18457646878701978 0.18393581552483892 0.0006406532621808548\n"
     ]
    },
    {
     "name": "stderr",
     "output_type": "stream",
     "text": [
      "# Training:  40%|████      | 28/70 [02:51<04:15,  6.09s/it]"
     ]
    },
    {
     "name": "stdout",
     "output_type": "stream",
     "text": [
      "LOSS 0.18306134163993545 0.18244280914591962 0.000618532494015843\n"
     ]
    },
    {
     "name": "stderr",
     "output_type": "stream",
     "text": [
      "# Training:  41%|████▏     | 29/70 [02:57<04:08,  6.06s/it]"
     ]
    },
    {
     "name": "stdout",
     "output_type": "stream",
     "text": [
      "LOSS 0.18111717151085321 0.18053391552037615 0.000583255990477061\n"
     ]
    },
    {
     "name": "stderr",
     "output_type": "stream",
     "text": [
      "# Training:  43%|████▎     | 30/70 [03:03<04:02,  6.06s/it]"
     ]
    },
    {
     "name": "stdout",
     "output_type": "stream",
     "text": [
      "LOSS 0.17929009350793604 0.1786708129860841 0.0006192805218519563\n"
     ]
    },
    {
     "name": "stderr",
     "output_type": "stream",
     "text": [
      "# Training:  44%|████▍     | 31/70 [03:09<03:55,  6.04s/it]"
     ]
    },
    {
     "name": "stdout",
     "output_type": "stream",
     "text": [
      "LOSS 0.1776468739262607 0.17700307817165825 0.0006437957546024318\n"
     ]
    },
    {
     "name": "stderr",
     "output_type": "stream",
     "text": [
      "# Training:  46%|████▌     | 32/70 [03:15<03:49,  6.03s/it]"
     ]
    },
    {
     "name": "stdout",
     "output_type": "stream",
     "text": [
      "LOSS 0.17489830026676342 0.17427830515609655 0.0006199951106668833\n"
     ]
    },
    {
     "name": "stderr",
     "output_type": "stream",
     "text": [
      "# Training:  47%|████▋     | 33/70 [03:21<03:42,  6.02s/it]"
     ]
    },
    {
     "name": "stdout",
     "output_type": "stream",
     "text": [
      "LOSS 0.17247999336659814 0.1718298222396042 0.0006501711269939497\n"
     ]
    },
    {
     "name": "stderr",
     "output_type": "stream",
     "text": [
      "# Training:  49%|████▊     | 34/70 [03:28<03:39,  6.10s/it]"
     ]
    },
    {
     "name": "stdout",
     "output_type": "stream",
     "text": [
      "LOSS 0.16951009207976764 0.1687981578582571 0.0007119342215105428\n"
     ]
    },
    {
     "name": "stderr",
     "output_type": "stream",
     "text": [
      "# Training:  50%|█████     | 35/70 [03:34<03:33,  6.11s/it]"
     ]
    },
    {
     "name": "stdout",
     "output_type": "stream",
     "text": [
      "LOSS 0.16726556963482112 0.1664500818344327 0.0008154878003884374\n"
     ]
    },
    {
     "name": "stderr",
     "output_type": "stream",
     "text": [
      "# Training:  51%|█████▏    | 36/70 [03:40<03:31,  6.23s/it]"
     ]
    },
    {
     "name": "stdout",
     "output_type": "stream",
     "text": [
      "LOSS 0.16521801197105823 0.16430423770378416 0.0009137742672740724\n"
     ]
    },
    {
     "name": "stderr",
     "output_type": "stream",
     "text": [
      "# Training:  53%|█████▎    | 37/70 [03:46<03:22,  6.14s/it]"
     ]
    },
    {
     "name": "stdout",
     "output_type": "stream",
     "text": [
      "LOSS 0.16231204064344087 0.1614119595330007 0.0009000811104401707\n"
     ]
    },
    {
     "name": "stderr",
     "output_type": "stream",
     "text": [
      "# Training:  54%|█████▍    | 38/70 [03:54<03:26,  6.46s/it]"
     ]
    },
    {
     "name": "stdout",
     "output_type": "stream",
     "text": [
      "LOSS 0.160128276980549 0.15915919115330227 0.0009690858272467159\n"
     ]
    },
    {
     "name": "stderr",
     "output_type": "stream",
     "text": [
      "# Training:  56%|█████▌    | 39/70 [04:00<03:21,  6.48s/it]"
     ]
    },
    {
     "name": "stdout",
     "output_type": "stream",
     "text": [
      "LOSS 0.15737469414351127 0.15640951248567533 0.0009651816578359308\n"
     ]
    },
    {
     "name": "stderr",
     "output_type": "stream",
     "text": [
      "# Training:  57%|█████▋    | 40/70 [04:06<03:10,  6.34s/it]"
     ]
    },
    {
     "name": "stdout",
     "output_type": "stream",
     "text": [
      "LOSS 0.17203501745648622 0.1710244101794478 0.0010106072770384163\n"
     ]
    },
    {
     "name": "stderr",
     "output_type": "stream",
     "text": [
      "# Training:  59%|█████▊    | 41/70 [04:12<02:59,  6.20s/it]"
     ]
    },
    {
     "name": "stdout",
     "output_type": "stream",
     "text": [
      "LOSS 0.17002447121515893 0.16888498892424292 0.0011394822909160114\n"
     ]
    },
    {
     "name": "stderr",
     "output_type": "stream",
     "text": [
      "# Training:  60%|██████    | 42/70 [04:18<02:51,  6.11s/it]"
     ]
    },
    {
     "name": "stdout",
     "output_type": "stream",
     "text": [
      "LOSS 0.16835710438686957 0.1671558792235261 0.0012012251633434785\n"
     ]
    },
    {
     "name": "stderr",
     "output_type": "stream",
     "text": [
      "# Training:  61%|██████▏   | 43/70 [04:24<02:42,  6.04s/it]"
     ]
    },
    {
     "name": "stdout",
     "output_type": "stream",
     "text": [
      "LOSS 0.16666068599875378 0.16544538733096545 0.0012152986677883284\n"
     ]
    },
    {
     "name": "stderr",
     "output_type": "stream",
     "text": [
      "# Training:  63%|██████▎   | 44/70 [04:30<02:35,  5.98s/it]"
     ]
    },
    {
     "name": "stdout",
     "output_type": "stream",
     "text": [
      "LOSS 0.16504732478070716 0.16383834546334866 0.0012089793173585114\n"
     ]
    },
    {
     "name": "stderr",
     "output_type": "stream",
     "text": [
      "# Training:  64%|██████▍   | 45/70 [04:35<02:27,  5.91s/it]"
     ]
    },
    {
     "name": "stdout",
     "output_type": "stream",
     "text": [
      "LOSS 0.16360730366005843 0.16240411116296244 0.0012031924970959842\n"
     ]
    },
    {
     "name": "stderr",
     "output_type": "stream",
     "text": [
      "# Training:  66%|██████▌   | 46/70 [04:41<02:21,  5.89s/it]"
     ]
    },
    {
     "name": "stdout",
     "output_type": "stream",
     "text": [
      "LOSS 0.162318842112461 0.16104830097754544 0.001270541134915557\n"
     ]
    },
    {
     "name": "stderr",
     "output_type": "stream",
     "text": [
      "# Training:  67%|██████▋   | 47/70 [04:47<02:14,  5.85s/it]"
     ]
    },
    {
     "name": "stdout",
     "output_type": "stream",
     "text": [
      "LOSS 0.16126253489012493 0.1599188525107247 0.0013436823794002203\n"
     ]
    },
    {
     "name": "stderr",
     "output_type": "stream",
     "text": [
      "# Training:  69%|██████▊   | 48/70 [04:53<02:08,  5.83s/it]"
     ]
    },
    {
     "name": "stdout",
     "output_type": "stream",
     "text": [
      "LOSS 0.16010016241768277 0.15875594643098276 0.0013442159867000107\n"
     ]
    },
    {
     "name": "stderr",
     "output_type": "stream",
     "text": [
      "# Training:  70%|███████   | 49/70 [04:58<02:01,  5.80s/it]"
     ]
    },
    {
     "name": "stdout",
     "output_type": "stream",
     "text": [
      "LOSS 0.15925272716757952 0.15791118994372177 0.0013415372238577323\n"
     ]
    },
    {
     "name": "stderr",
     "output_type": "stream",
     "text": [
      "# Training:  71%|███████▏  | 50/70 [05:04<01:55,  5.80s/it]"
     ]
    },
    {
     "name": "stdout",
     "output_type": "stream",
     "text": [
      "LOSS 0.1582490220799685 0.15690305333107463 0.0013459687488938574\n"
     ]
    },
    {
     "name": "stderr",
     "output_type": "stream",
     "text": [
      "# Training:  73%|███████▎  | 51/70 [05:10<01:50,  5.80s/it]"
     ]
    },
    {
     "name": "stdout",
     "output_type": "stream",
     "text": [
      "LOSS 0.15716881944184127 0.1557711108122153 0.0013977086296259667\n"
     ]
    },
    {
     "name": "stderr",
     "output_type": "stream",
     "text": [
      "# Training:  74%|███████▍  | 52/70 [05:17<01:51,  6.19s/it]"
     ]
    },
    {
     "name": "stdout",
     "output_type": "stream",
     "text": [
      "LOSS 0.1558205930976198 0.15441317654879685 0.0014074165488229433\n"
     ]
    },
    {
     "name": "stderr",
     "output_type": "stream",
     "text": [
      "# Training:  76%|███████▌  | 53/70 [05:26<01:58,  6.98s/it]"
     ]
    },
    {
     "name": "stdout",
     "output_type": "stream",
     "text": [
      "LOSS 0.15495345855947767 0.1535753992052864 0.0013780593541912838\n"
     ]
    },
    {
     "name": "stderr",
     "output_type": "stream",
     "text": [
      "# Training:  77%|███████▋  | 54/70 [05:32<01:46,  6.68s/it]"
     ]
    },
    {
     "name": "stdout",
     "output_type": "stream",
     "text": [
      "LOSS 0.15411425343737759 0.15274324116784857 0.0013710122695290185\n"
     ]
    },
    {
     "name": "stderr",
     "output_type": "stream",
     "text": [
      "# Training:  79%|███████▊  | 55/70 [05:39<01:40,  6.69s/it]"
     ]
    },
    {
     "name": "stdout",
     "output_type": "stream",
     "text": [
      "LOSS 0.15308914492226558 0.1517161958097919 0.001372949112473692\n"
     ]
    },
    {
     "name": "stderr",
     "output_type": "stream",
     "text": [
      "# Training:  80%|████████  | 56/70 [05:45<01:31,  6.55s/it]"
     ]
    },
    {
     "name": "stdout",
     "output_type": "stream",
     "text": [
      "LOSS 0.15168387798477592 0.15026234748763623 0.0014215304971396995\n"
     ]
    },
    {
     "name": "stderr",
     "output_type": "stream",
     "text": [
      "# Training:  81%|████████▏ | 57/70 [05:52<01:26,  6.64s/it]"
     ]
    },
    {
     "name": "stdout",
     "output_type": "stream",
     "text": [
      "LOSS 0.15076717215271807 0.14929091206274506 0.0014762600899730074\n"
     ]
    },
    {
     "name": "stderr",
     "output_type": "stream",
     "text": [
      "# Training:  83%|████████▎ | 58/70 [05:59<01:21,  6.78s/it]"
     ]
    },
    {
     "name": "stdout",
     "output_type": "stream",
     "text": [
      "LOSS 0.14959100235784797 0.14809272718941996 0.0014982751684280077\n"
     ]
    },
    {
     "name": "stderr",
     "output_type": "stream",
     "text": [
      "# Training:  84%|████████▍ | 59/70 [06:05<01:13,  6.71s/it]"
     ]
    },
    {
     "name": "stdout",
     "output_type": "stream",
     "text": [
      "LOSS 0.14827341250795148 0.1467450068722516 0.0015284056356998895\n"
     ]
    },
    {
     "name": "stderr",
     "output_type": "stream",
     "text": [
      "# Training:  86%|████████▌ | 60/70 [06:12<01:07,  6.78s/it]"
     ]
    },
    {
     "name": "stdout",
     "output_type": "stream",
     "text": [
      "LOSS 0.14654904110806619 0.14496866569454178 0.001580375413524405\n"
     ]
    },
    {
     "name": "stderr",
     "output_type": "stream",
     "text": [
      "# Training:  87%|████████▋ | 61/70 [06:21<01:05,  7.26s/it]"
     ]
    },
    {
     "name": "stdout",
     "output_type": "stream",
     "text": [
      "LOSS 0.14475651094260947 0.1430739375413296 0.001682573401279871\n"
     ]
    },
    {
     "name": "stderr",
     "output_type": "stream",
     "text": [
      "# Training:  89%|████████▊ | 62/70 [06:30<01:02,  7.76s/it]"
     ]
    },
    {
     "name": "stdout",
     "output_type": "stream",
     "text": [
      "LOSS 0.14306118961865358 0.14126992317718542 0.0017912664414681488\n"
     ]
    },
    {
     "name": "stderr",
     "output_type": "stream",
     "text": [
      "# Training:  90%|█████████ | 63/70 [06:36<00:51,  7.37s/it]"
     ]
    },
    {
     "name": "stdout",
     "output_type": "stream",
     "text": [
      "LOSS 0.14137699960966335 0.13948482780730226 0.0018921718023610856\n"
     ]
    },
    {
     "name": "stderr",
     "output_type": "stream",
     "text": [
      "# Training:  91%|█████████▏| 64/70 [06:43<00:44,  7.35s/it]"
     ]
    },
    {
     "name": "stdout",
     "output_type": "stream",
     "text": [
      "LOSS 0.14007878403879515 0.13805825369000083 0.002020530348794327\n"
     ]
    },
    {
     "name": "stderr",
     "output_type": "stream",
     "text": [
      "# Training:  93%|█████████▎| 65/70 [06:51<00:37,  7.58s/it]"
     ]
    },
    {
     "name": "stdout",
     "output_type": "stream",
     "text": [
      "LOSS 0.1396262839950053 0.137468986252525 0.0021572977424802902\n"
     ]
    },
    {
     "name": "stderr",
     "output_type": "stream",
     "text": [
      "# Training:  94%|█████████▍| 66/70 [06:58<00:29,  7.38s/it]"
     ]
    },
    {
     "name": "stdout",
     "output_type": "stream",
     "text": [
      "LOSS 0.13940791858226045 0.13716875746000903 0.0022391611222514324\n"
     ]
    },
    {
     "name": "stderr",
     "output_type": "stream",
     "text": [
      "# Training:  96%|█████████▌| 67/70 [07:04<00:20,  6.99s/it]"
     ]
    },
    {
     "name": "stdout",
     "output_type": "stream",
     "text": [
      "LOSS 0.13713501793585262 0.13480192807792135 0.002333089857931262\n"
     ]
    },
    {
     "name": "stderr",
     "output_type": "stream",
     "text": [
      "# Training:  97%|█████████▋| 68/70 [07:10<00:13,  6.67s/it]"
     ]
    },
    {
     "name": "stdout",
     "output_type": "stream",
     "text": [
      "LOSS 0.1352914701956585 0.132922207259563 0.0023692629360954846\n"
     ]
    },
    {
     "name": "stderr",
     "output_type": "stream",
     "text": [
      "# Training:  99%|█████████▊| 69/70 [07:16<00:06,  6.43s/it]"
     ]
    },
    {
     "name": "stdout",
     "output_type": "stream",
     "text": [
      "LOSS 0.13538426295009706 0.13291754248889387 0.0024667204612031863\n"
     ]
    },
    {
     "name": "stderr",
     "output_type": "stream",
     "text": [
      "# Training: 100%|██████████| 70/70 [07:22<00:00,  6.32s/it]\n"
     ]
    },
    {
     "name": "stdout",
     "output_type": "stream",
     "text": [
      "# Finished. Training Loss: 0.135384\n",
      "Epoch Loss 0.1779789600805479\n",
      "Epoch 2 of 3\n",
      "### Beginning Training\n"
     ]
    },
    {
     "name": "stderr",
     "output_type": "stream",
     "text": [
      "# Training:   0%|          | 0/70 [00:00<?, ?it/s]"
     ]
    },
    {
     "name": "stdout",
     "output_type": "stream",
     "text": [
      "LOSS 0.11445805286064278 0.11422421662719137 0.00023383623345141753\n"
     ]
    },
    {
     "name": "stderr",
     "output_type": "stream",
     "text": [
      "# Training:   1%|▏         | 1/70 [00:06<07:25,  6.45s/it]"
     ]
    },
    {
     "name": "stdout",
     "output_type": "stream",
     "text": [
      "LOSS 0.11381315618751606 0.11357905422598968 0.00023410196152636736\n"
     ]
    },
    {
     "name": "stderr",
     "output_type": "stream",
     "text": [
      "# Training:   3%|▎         | 2/70 [00:12<07:18,  6.44s/it]"
     ]
    },
    {
     "name": "stdout",
     "output_type": "stream",
     "text": [
      "LOSS 0.11260308815230302 0.11236721689438245 0.0002358712579205737\n"
     ]
    },
    {
     "name": "stderr",
     "output_type": "stream",
     "text": [
      "# Training:   4%|▍         | 3/70 [00:19<07:16,  6.52s/it]"
     ]
    },
    {
     "name": "stdout",
     "output_type": "stream",
     "text": [
      "LOSS 0.11171814764741739 0.1114749935471798 0.00024315410023758766\n"
     ]
    },
    {
     "name": "stderr",
     "output_type": "stream",
     "text": [
      "# Training:   6%|▌         | 4/70 [00:25<07:02,  6.40s/it]"
     ]
    },
    {
     "name": "stdout",
     "output_type": "stream",
     "text": [
      "LOSS 0.11035317174297449 0.11010516262139483 0.00024800912157966023\n"
     ]
    },
    {
     "name": "stderr",
     "output_type": "stream",
     "text": [
      "# Training:   7%|▋         | 5/70 [00:31<06:50,  6.31s/it]"
     ]
    },
    {
     "name": "stdout",
     "output_type": "stream",
     "text": [
      "LOSS 0.10926750652398128 0.1090161871104368 0.00025131941354446973\n"
     ]
    },
    {
     "name": "stderr",
     "output_type": "stream",
     "text": [
      "# Training:   9%|▊         | 6/70 [00:38<06:53,  6.46s/it]"
     ]
    },
    {
     "name": "stdout",
     "output_type": "stream",
     "text": [
      "LOSS 0.1083742578522585 0.1081139175483946 0.0002603403038638979\n"
     ]
    },
    {
     "name": "stderr",
     "output_type": "stream",
     "text": [
      "# Training:  10%|█         | 7/70 [00:46<07:14,  6.90s/it]"
     ]
    },
    {
     "name": "stdout",
     "output_type": "stream",
     "text": [
      "LOSS 0.10725961115440058 0.10698559467828671 0.0002740164761138666\n"
     ]
    },
    {
     "name": "stderr",
     "output_type": "stream",
     "text": [
      "# Training:  11%|█▏        | 8/70 [00:53<07:15,  7.03s/it]"
     ]
    },
    {
     "name": "stdout",
     "output_type": "stream",
     "text": [
      "LOSS 0.10656834291825283 0.10628346641087749 0.00028487650737534594\n"
     ]
    },
    {
     "name": "stderr",
     "output_type": "stream",
     "text": [
      "# Training:  13%|█▎        | 9/70 [01:00<07:12,  7.09s/it]"
     ]
    },
    {
     "name": "stdout",
     "output_type": "stream",
     "text": [
      "LOSS 0.10560853858077604 0.10531747110493044 0.00029106747584561107\n"
     ]
    },
    {
     "name": "stderr",
     "output_type": "stream",
     "text": [
      "# Training:  14%|█▍        | 10/70 [01:07<06:56,  6.95s/it]"
     ]
    },
    {
     "name": "stdout",
     "output_type": "stream",
     "text": [
      "LOSS 0.10481901248325798 0.10451678835709759 0.000302224126160397\n"
     ]
    },
    {
     "name": "stderr",
     "output_type": "stream",
     "text": [
      "# Training:  16%|█▌        | 11/70 [01:14<06:46,  6.89s/it]"
     ]
    },
    {
     "name": "stdout",
     "output_type": "stream",
     "text": [
      "LOSS 0.10383050001597098 0.1035142292945117 0.00031627072145928\n"
     ]
    },
    {
     "name": "stderr",
     "output_type": "stream",
     "text": [
      "# Training:  17%|█▋        | 12/70 [01:21<06:36,  6.83s/it]"
     ]
    },
    {
     "name": "stdout",
     "output_type": "stream",
     "text": [
      "LOSS 0.10269181545050676 0.10236298286618263 0.00032883258432412824\n"
     ]
    },
    {
     "name": "stderr",
     "output_type": "stream",
     "text": [
      "# Training:  19%|█▊        | 13/70 [01:27<06:17,  6.62s/it]"
     ]
    },
    {
     "name": "stdout",
     "output_type": "stream",
     "text": [
      "LOSS 0.10175951028449064 0.10141924504377652 0.0003402652407141161\n"
     ]
    },
    {
     "name": "stderr",
     "output_type": "stream",
     "text": [
      "# Training:  20%|██        | 14/70 [01:33<06:12,  6.66s/it]"
     ]
    },
    {
     "name": "stdout",
     "output_type": "stream",
     "text": [
      "LOSS 0.10047276271811678 0.10011464223219993 0.0003581204859168502\n"
     ]
    },
    {
     "name": "stderr",
     "output_type": "stream",
     "text": [
      "# Training:  21%|██▏       | 15/70 [01:40<06:00,  6.56s/it]"
     ]
    },
    {
     "name": "stdout",
     "output_type": "stream",
     "text": [
      "LOSS 0.09944305302848058 0.09907295995993647 0.0003700930685441122\n"
     ]
    },
    {
     "name": "stderr",
     "output_type": "stream",
     "text": [
      "# Training:  23%|██▎       | 16/70 [01:46<05:55,  6.58s/it]"
     ]
    },
    {
     "name": "stdout",
     "output_type": "stream",
     "text": [
      "LOSS 0.09844636634707003 0.09805828800864262 0.0003880783384274156\n"
     ]
    },
    {
     "name": "stderr",
     "output_type": "stream",
     "text": [
      "# Training:  24%|██▍       | 17/70 [01:53<05:48,  6.57s/it]"
     ]
    },
    {
     "name": "stdout",
     "output_type": "stream",
     "text": [
      "LOSS 0.09767946256679386 0.09727297462604259 0.00040648794075126847\n"
     ]
    },
    {
     "name": "stderr",
     "output_type": "stream",
     "text": [
      "# Training:  26%|██▌       | 18/70 [02:00<05:43,  6.60s/it]"
     ]
    },
    {
     "name": "stdout",
     "output_type": "stream",
     "text": [
      "LOSS 0.0973325566584015 0.09690900810362726 0.00042354855477424037\n"
     ]
    },
    {
     "name": "stderr",
     "output_type": "stream",
     "text": [
      "# Training:  27%|██▋       | 19/70 [02:06<05:40,  6.67s/it]"
     ]
    },
    {
     "name": "stdout",
     "output_type": "stream",
     "text": [
      "LOSS 0.09704332926626444 0.09660012135755967 0.00044320790870475856\n"
     ]
    },
    {
     "name": "stderr",
     "output_type": "stream",
     "text": [
      "# Training:  29%|██▊       | 20/70 [02:13<05:30,  6.61s/it]"
     ]
    },
    {
     "name": "stdout",
     "output_type": "stream",
     "text": [
      "LOSS 0.09652113061501354 0.09606309814065621 0.0004580324743573342\n"
     ]
    },
    {
     "name": "stderr",
     "output_type": "stream",
     "text": [
      "# Training:  30%|███       | 21/70 [02:19<05:22,  6.59s/it]"
     ]
    },
    {
     "name": "stdout",
     "output_type": "stream",
     "text": [
      "LOSS 0.09591568242024823 0.09544426920144576 0.0004714132188024688\n"
     ]
    },
    {
     "name": "stderr",
     "output_type": "stream",
     "text": [
      "# Training:  31%|███▏      | 22/70 [02:26<05:12,  6.50s/it]"
     ]
    },
    {
     "name": "stdout",
     "output_type": "stream",
     "text": [
      "LOSS 0.0950664081681858 0.09457676277986828 0.0004896453883175251\n"
     ]
    },
    {
     "name": "stderr",
     "output_type": "stream",
     "text": [
      "# Training:  33%|███▎      | 23/70 [02:32<05:07,  6.54s/it]"
     ]
    },
    {
     "name": "stdout",
     "output_type": "stream",
     "text": [
      "LOSS 0.09474765063204799 0.09425585539610366 0.0004917952359443214\n"
     ]
    },
    {
     "name": "stderr",
     "output_type": "stream",
     "text": [
      "# Training:  34%|███▍      | 24/70 [02:39<05:05,  6.65s/it]"
     ]
    },
    {
     "name": "stdout",
     "output_type": "stream",
     "text": [
      "LOSS 0.09445128181637508 0.09394161353671622 0.0005096682796588625\n"
     ]
    },
    {
     "name": "stderr",
     "output_type": "stream",
     "text": [
      "# Training:  36%|███▌      | 25/70 [02:46<05:00,  6.67s/it]"
     ]
    },
    {
     "name": "stdout",
     "output_type": "stream",
     "text": [
      "LOSS 0.09446048897799125 0.0939449037878145 0.0005155851901767458\n"
     ]
    },
    {
     "name": "stderr",
     "output_type": "stream",
     "text": [
      "# Training:  37%|███▋      | 26/70 [02:53<04:52,  6.64s/it]"
     ]
    },
    {
     "name": "stdout",
     "output_type": "stream",
     "text": [
      "LOSS 0.0937366362806593 0.09321250646072465 0.0005241298199346429\n"
     ]
    },
    {
     "name": "stderr",
     "output_type": "stream",
     "text": [
      "# Training:  39%|███▊      | 27/70 [02:59<04:49,  6.72s/it]"
     ]
    },
    {
     "name": "stdout",
     "output_type": "stream",
     "text": [
      "LOSS 0.09285095043972917 0.09232136383469713 0.0005295866050320347\n"
     ]
    },
    {
     "name": "stderr",
     "output_type": "stream",
     "text": [
      "# Training:  40%|████      | 28/70 [03:06<04:36,  6.59s/it]"
     ]
    },
    {
     "name": "stdout",
     "output_type": "stream",
     "text": [
      "LOSS 0.09236916730157624 0.09183705077885061 0.0005321165227256228\n"
     ]
    },
    {
     "name": "stderr",
     "output_type": "stream",
     "text": [
      "# Training:  41%|████▏     | 29/70 [03:12<04:27,  6.53s/it]"
     ]
    },
    {
     "name": "stdout",
     "output_type": "stream",
     "text": [
      "LOSS 0.0923681884800973 0.0918260014041068 0.0005421870759905039\n"
     ]
    },
    {
     "name": "stderr",
     "output_type": "stream",
     "text": [
      "# Training:  43%|████▎     | 30/70 [03:19<04:20,  6.52s/it]"
     ]
    },
    {
     "name": "stdout",
     "output_type": "stream",
     "text": [
      "LOSS 0.09163189292830289 0.09109366418236269 0.0005382287459401942\n"
     ]
    },
    {
     "name": "stderr",
     "output_type": "stream",
     "text": [
      "# Training:  44%|████▍     | 31/70 [03:25<04:13,  6.51s/it]"
     ]
    },
    {
     "name": "stdout",
     "output_type": "stream",
     "text": [
      "LOSS 0.09096914347819926 0.09042372114556876 0.0005454223326304943\n"
     ]
    },
    {
     "name": "stderr",
     "output_type": "stream",
     "text": [
      "# Training:  46%|████▌     | 32/70 [03:32<04:09,  6.56s/it]"
     ]
    },
    {
     "name": "stdout",
     "output_type": "stream",
     "text": [
      "LOSS 0.09042541219091411 0.08987776090059069 0.0005476512903234306\n"
     ]
    },
    {
     "name": "stderr",
     "output_type": "stream",
     "text": [
      "# Training:  47%|████▋     | 33/70 [03:38<04:02,  6.55s/it]"
     ]
    },
    {
     "name": "stdout",
     "output_type": "stream",
     "text": [
      "LOSS 0.08988778585414658 0.08933426751157512 0.0005535183425714545\n"
     ]
    },
    {
     "name": "stderr",
     "output_type": "stream",
     "text": [
      "# Training:  49%|████▊     | 34/70 [03:45<03:55,  6.53s/it]"
     ]
    },
    {
     "name": "stdout",
     "output_type": "stream",
     "text": [
      "LOSS 0.08944061112201751 0.08888059334665178 0.0005600177753657268\n"
     ]
    },
    {
     "name": "stderr",
     "output_type": "stream",
     "text": [
      "# Training:  50%|█████     | 35/70 [03:51<03:49,  6.57s/it]"
     ]
    },
    {
     "name": "stdout",
     "output_type": "stream",
     "text": [
      "LOSS 0.08922092155607353 0.08866554369300125 0.0005553778630722753\n"
     ]
    },
    {
     "name": "stderr",
     "output_type": "stream",
     "text": [
      "# Training:  51%|█████▏    | 36/70 [03:58<03:40,  6.48s/it]"
     ]
    },
    {
     "name": "stdout",
     "output_type": "stream",
     "text": [
      "LOSS 0.08867882694765625 0.08811862267611724 0.0005602042715390064\n"
     ]
    },
    {
     "name": "stderr",
     "output_type": "stream",
     "text": [
      "# Training:  53%|█████▎    | 37/70 [04:04<03:32,  6.43s/it]"
     ]
    },
    {
     "name": "stdout",
     "output_type": "stream",
     "text": [
      "LOSS 0.08780969194318981 0.08724350152190319 0.0005661904212866213\n"
     ]
    },
    {
     "name": "stderr",
     "output_type": "stream",
     "text": [
      "# Training:  54%|█████▍    | 38/70 [04:11<03:26,  6.45s/it]"
     ]
    },
    {
     "name": "stdout",
     "output_type": "stream",
     "text": [
      "LOSS 0.0874009167762956 0.08683130684134306 0.000569609934952546\n"
     ]
    },
    {
     "name": "stderr",
     "output_type": "stream",
     "text": [
      "# Training:  56%|█████▌    | 39/70 [04:17<03:19,  6.44s/it]"
     ]
    },
    {
     "name": "stdout",
     "output_type": "stream",
     "text": [
      "LOSS 0.08736934852604432 0.08679721997757996 0.0005721285484643639\n"
     ]
    },
    {
     "name": "stderr",
     "output_type": "stream",
     "text": [
      "# Training:  57%|█████▋    | 40/70 [04:23<03:13,  6.44s/it]"
     ]
    },
    {
     "name": "stdout",
     "output_type": "stream",
     "text": [
      "LOSS 0.09980665498723769 0.09918302850565171 0.0006236264815859836\n"
     ]
    },
    {
     "name": "stderr",
     "output_type": "stream",
     "text": [
      "# Training:  59%|█████▊    | 41/70 [04:29<03:03,  6.33s/it]"
     ]
    },
    {
     "name": "stdout",
     "output_type": "stream",
     "text": [
      "LOSS 0.09990582657465798 0.09927303797595408 0.0006327885987039018\n"
     ]
    },
    {
     "name": "stderr",
     "output_type": "stream",
     "text": [
      "# Training:  60%|██████    | 42/70 [04:36<02:54,  6.25s/it]"
     ]
    },
    {
     "name": "stdout",
     "output_type": "stream",
     "text": [
      "LOSS 0.10047633170630882 0.09985462477610667 0.0006217069302021487\n"
     ]
    },
    {
     "name": "stderr",
     "output_type": "stream",
     "text": [
      "# Training:  61%|██████▏   | 43/70 [04:42<02:47,  6.19s/it]"
     ]
    },
    {
     "name": "stdout",
     "output_type": "stream",
     "text": [
      "LOSS 0.10179947869673499 0.10116488031932504 0.0006345983774099553\n"
     ]
    },
    {
     "name": "stderr",
     "output_type": "stream",
     "text": [
      "# Training:  63%|██████▎   | 44/70 [04:48<02:38,  6.11s/it]"
     ]
    },
    {
     "name": "stdout",
     "output_type": "stream",
     "text": [
      "LOSS 0.10181566189046268 0.10120150465758236 0.0006141572328803197\n"
     ]
    },
    {
     "name": "stderr",
     "output_type": "stream",
     "text": [
      "# Training:  64%|██████▍   | 45/70 [04:54<02:32,  6.09s/it]"
     ]
    },
    {
     "name": "stdout",
     "output_type": "stream",
     "text": [
      "LOSS 0.10063165708113843 0.10000431619162471 0.0006273408895137196\n"
     ]
    },
    {
     "name": "stderr",
     "output_type": "stream",
     "text": [
      "# Training:  66%|██████▌   | 46/70 [05:00<02:30,  6.27s/it]"
     ]
    },
    {
     "name": "stdout",
     "output_type": "stream",
     "text": [
      "LOSS 0.09932563139714973 0.09871271600068487 0.000612915396464853\n"
     ]
    },
    {
     "name": "stderr",
     "output_type": "stream",
     "text": [
      "# Training:  67%|██████▋   | 47/70 [05:07<02:25,  6.32s/it]"
     ]
    },
    {
     "name": "stdout",
     "output_type": "stream",
     "text": [
      "LOSS 0.10035822304050111 0.09975417267890906 0.0006040503615920594\n"
     ]
    },
    {
     "name": "stderr",
     "output_type": "stream",
     "text": [
      "# Training:  69%|██████▊   | 48/70 [05:13<02:19,  6.36s/it]"
     ]
    },
    {
     "name": "stdout",
     "output_type": "stream",
     "text": [
      "LOSS 0.09995092812687578 0.09933791178383095 0.0006130163430448413\n"
     ]
    },
    {
     "name": "stderr",
     "output_type": "stream",
     "text": [
      "# Training:  70%|███████   | 49/70 [05:20<02:19,  6.62s/it]"
     ]
    },
    {
     "name": "stdout",
     "output_type": "stream",
     "text": [
      "LOSS 0.09928275528556561 0.09868332855505936 0.0005994267305062518\n"
     ]
    },
    {
     "name": "stderr",
     "output_type": "stream",
     "text": [
      "# Training:  71%|███████▏  | 50/70 [05:27<02:14,  6.73s/it]"
     ]
    },
    {
     "name": "stdout",
     "output_type": "stream",
     "text": [
      "LOSS 0.09982599741531462 0.099239240300041 0.0005867571152736172\n"
     ]
    },
    {
     "name": "stderr",
     "output_type": "stream",
     "text": [
      "# Training:  73%|███████▎  | 51/70 [05:34<02:04,  6.57s/it]"
     ]
    },
    {
     "name": "stdout",
     "output_type": "stream",
     "text": [
      "LOSS 0.09891897292044502 0.09832857401584638 0.0005903989045986397\n"
     ]
    },
    {
     "name": "stderr",
     "output_type": "stream",
     "text": [
      "# Training:  74%|███████▍  | 52/70 [05:40<01:56,  6.46s/it]"
     ]
    },
    {
     "name": "stdout",
     "output_type": "stream",
     "text": [
      "LOSS 0.09907610983864353 0.09849222514693252 0.0005838846917109971\n"
     ]
    },
    {
     "name": "stderr",
     "output_type": "stream",
     "text": [
      "# Training:  76%|███████▌  | 53/70 [05:46<01:47,  6.30s/it]"
     ]
    },
    {
     "name": "stdout",
     "output_type": "stream",
     "text": [
      "LOSS 0.09912499710238176 0.09855372229846053 0.0005712748039212339\n"
     ]
    },
    {
     "name": "stderr",
     "output_type": "stream",
     "text": [
      "# Training:  77%|███████▋  | 54/70 [05:52<01:41,  6.37s/it]"
     ]
    },
    {
     "name": "stdout",
     "output_type": "stream",
     "text": [
      "LOSS 0.09852713799445863 0.09795826570648883 0.0005688722879698056\n"
     ]
    },
    {
     "name": "stderr",
     "output_type": "stream",
     "text": [
      "# Training:  79%|███████▊  | 55/70 [05:59<01:36,  6.46s/it]"
     ]
    },
    {
     "name": "stdout",
     "output_type": "stream",
     "text": [
      "LOSS 0.09904705796794507 0.09847693362622433 0.0005701243417207438\n"
     ]
    },
    {
     "name": "stderr",
     "output_type": "stream",
     "text": [
      "# Training:  80%|████████  | 56/70 [06:06<01:32,  6.61s/it]"
     ]
    },
    {
     "name": "stdout",
     "output_type": "stream",
     "text": [
      "LOSS 0.09824423990379172 0.0976832476750557 0.0005609922287360167\n"
     ]
    },
    {
     "name": "stderr",
     "output_type": "stream",
     "text": [
      "# Training:  81%|████████▏ | 57/70 [06:12<01:25,  6.55s/it]"
     ]
    },
    {
     "name": "stdout",
     "output_type": "stream",
     "text": [
      "LOSS 0.09842721538985762 0.0978739069895578 0.0005533084002998248\n"
     ]
    },
    {
     "name": "stderr",
     "output_type": "stream",
     "text": [
      "# Training:  83%|████████▎ | 58/70 [06:19<01:19,  6.60s/it]"
     ]
    },
    {
     "name": "stdout",
     "output_type": "stream",
     "text": [
      "LOSS 0.09838124898994627 0.09782790470594101 0.0005533442840052596\n"
     ]
    },
    {
     "name": "stderr",
     "output_type": "stream",
     "text": [
      "# Training:  84%|████████▍ | 59/70 [06:26<01:13,  6.66s/it]"
     ]
    },
    {
     "name": "stdout",
     "output_type": "stream",
     "text": [
      "LOSS 0.09820095641408794 0.09765034932983793 0.0005506070842500033\n"
     ]
    },
    {
     "name": "stderr",
     "output_type": "stream",
     "text": [
      "# Training:  86%|████████▌ | 60/70 [06:34<01:09,  6.99s/it]"
     ]
    },
    {
     "name": "stdout",
     "output_type": "stream",
     "text": [
      "LOSS 0.09816878934974474 0.09762337395182843 0.0005454153979163039\n"
     ]
    },
    {
     "name": "stderr",
     "output_type": "stream",
     "text": [
      "# Training:  87%|████████▋ | 61/70 [06:41<01:04,  7.14s/it]"
     ]
    },
    {
     "name": "stdout",
     "output_type": "stream",
     "text": [
      "LOSS 0.09794838681384181 0.09740555272271678 0.0005428340911250295\n"
     ]
    },
    {
     "name": "stderr",
     "output_type": "stream",
     "text": [
      "# Training:  89%|████████▊ | 62/70 [06:48<00:56,  7.11s/it]"
     ]
    },
    {
     "name": "stdout",
     "output_type": "stream",
     "text": [
      "LOSS 0.09811690810363198 0.09757875448846978 0.0005381536151621919\n"
     ]
    },
    {
     "name": "stderr",
     "output_type": "stream",
     "text": [
      "# Training:  90%|█████████ | 63/70 [06:54<00:47,  6.83s/it]"
     ]
    },
    {
     "name": "stdout",
     "output_type": "stream",
     "text": [
      "LOSS 0.09806076536489873 0.09752828773163662 0.0005324776332621097\n"
     ]
    },
    {
     "name": "stderr",
     "output_type": "stream",
     "text": [
      "# Training:  91%|█████████▏| 64/70 [07:00<00:39,  6.61s/it]"
     ]
    },
    {
     "name": "stdout",
     "output_type": "stream",
     "text": [
      "LOSS 0.09794386862972597 0.0974110493323845 0.0005328192973414717\n"
     ]
    },
    {
     "name": "stderr",
     "output_type": "stream",
     "text": [
      "# Training:  93%|█████████▎| 65/70 [07:06<00:32,  6.46s/it]"
     ]
    },
    {
     "name": "stdout",
     "output_type": "stream",
     "text": [
      "LOSS 0.09800407559754708 0.09747086161452709 0.0005332139830199846\n"
     ]
    },
    {
     "name": "stderr",
     "output_type": "stream",
     "text": [
      "# Training:  94%|█████████▍| 66/70 [07:13<00:25,  6.35s/it]"
     ]
    },
    {
     "name": "stdout",
     "output_type": "stream",
     "text": [
      "LOSS 0.0979593724343534 0.09743248008008229 0.000526892354271109\n"
     ]
    },
    {
     "name": "stderr",
     "output_type": "stream",
     "text": [
      "# Training:  96%|█████████▌| 67/70 [07:19<00:18,  6.26s/it]"
     ]
    },
    {
     "name": "stdout",
     "output_type": "stream",
     "text": [
      "LOSS 0.09802109455381236 0.09749555698203298 0.0005255375717793739\n"
     ]
    },
    {
     "name": "stderr",
     "output_type": "stream",
     "text": [
      "# Training:  97%|█████████▋| 68/70 [07:25<00:12,  6.18s/it]"
     ]
    },
    {
     "name": "stdout",
     "output_type": "stream",
     "text": [
      "LOSS 0.09790400521384014 0.0973764805422031 0.000527524671637044\n"
     ]
    },
    {
     "name": "stderr",
     "output_type": "stream",
     "text": [
      "# Training:  99%|█████████▊| 69/70 [07:31<00:06,  6.11s/it]"
     ]
    },
    {
     "name": "stdout",
     "output_type": "stream",
     "text": [
      "LOSS 0.09783691544134776 0.0973141378095078 0.000522777631839963\n"
     ]
    },
    {
     "name": "stderr",
     "output_type": "stream",
     "text": [
      "# Training: 100%|██████████| 70/70 [07:36<00:00,  6.53s/it]\n"
     ]
    },
    {
     "name": "stdout",
     "output_type": "stream",
     "text": [
      "# Finished. Training Loss: 0.097837\n",
      "Epoch Loss 0.09871365204458414\n",
      "Epoch 3 of 3\n",
      "### Beginning Training\n"
     ]
    },
    {
     "name": "stderr",
     "output_type": "stream",
     "text": [
      "# Training:   0%|          | 0/70 [00:00<?, ?it/s]"
     ]
    },
    {
     "name": "stdout",
     "output_type": "stream",
     "text": [
      "LOSS 0.09023987644753514 0.08569760276221337 0.004542273685321778\n"
     ]
    },
    {
     "name": "stderr",
     "output_type": "stream",
     "text": [
      "# Training:   1%|▏         | 1/70 [00:06<07:18,  6.36s/it]"
     ]
    },
    {
     "name": "stdout",
     "output_type": "stream",
     "text": [
      "LOSS 0.09002234150479162 0.08556368495933192 0.004458656545459696\n"
     ]
    },
    {
     "name": "stderr",
     "output_type": "stream",
     "text": [
      "# Training:   3%|▎         | 2/70 [00:12<07:07,  6.29s/it]"
     ]
    },
    {
     "name": "stdout",
     "output_type": "stream",
     "text": [
      "LOSS 0.08979997749349783 0.08544412853033005 0.004355848963167783\n"
     ]
    },
    {
     "name": "stderr",
     "output_type": "stream",
     "text": [
      "# Training:   4%|▍         | 3/70 [00:18<06:59,  6.27s/it]"
     ]
    },
    {
     "name": "stdout",
     "output_type": "stream",
     "text": [
      "LOSS 0.08959937040197509 0.08539042285352812 0.0042089475484469755\n"
     ]
    },
    {
     "name": "stderr",
     "output_type": "stream",
     "text": [
      "# Training:   6%|▌         | 4/70 [00:25<06:52,  6.25s/it]"
     ]
    },
    {
     "name": "stdout",
     "output_type": "stream",
     "text": [
      "LOSS 0.0891741280253435 0.08514370685749703 0.00403042116784646\n"
     ]
    },
    {
     "name": "stderr",
     "output_type": "stream",
     "text": [
      "# Training:   7%|▋         | 5/70 [00:31<06:46,  6.26s/it]"
     ]
    },
    {
     "name": "stdout",
     "output_type": "stream",
     "text": [
      "LOSS 0.08903279157861838 0.08518353543763772 0.003849256140980648\n"
     ]
    },
    {
     "name": "stderr",
     "output_type": "stream",
     "text": [
      "# Training:   9%|▊         | 6/70 [00:37<06:40,  6.26s/it]"
     ]
    },
    {
     "name": "stdout",
     "output_type": "stream",
     "text": [
      "LOSS 0.08886634408857959 0.0851953233771417 0.003671020711437896\n"
     ]
    },
    {
     "name": "stderr",
     "output_type": "stream",
     "text": [
      "# Training:  10%|█         | 7/70 [00:43<06:33,  6.25s/it]"
     ]
    },
    {
     "name": "stdout",
     "output_type": "stream",
     "text": [
      "LOSS 0.08876018230204026 0.08526100027453316 0.003499182027507098\n"
     ]
    },
    {
     "name": "stderr",
     "output_type": "stream",
     "text": [
      "# Training:  11%|█▏        | 8/70 [00:49<06:24,  6.20s/it]"
     ]
    },
    {
     "name": "stdout",
     "output_type": "stream",
     "text": [
      "LOSS 0.0885631235663805 0.08521912369367354 0.0033439998727069686\n"
     ]
    },
    {
     "name": "stderr",
     "output_type": "stream",
     "text": [
      "# Training:  13%|█▎        | 9/70 [00:56<06:18,  6.21s/it]"
     ]
    },
    {
     "name": "stdout",
     "output_type": "stream",
     "text": [
      "LOSS 0.088463433429409 0.08527553170757551 0.003187901721833493\n"
     ]
    },
    {
     "name": "stderr",
     "output_type": "stream",
     "text": [
      "# Training:  14%|█▍        | 10/70 [01:02<06:13,  6.22s/it]"
     ]
    },
    {
     "name": "stdout",
     "output_type": "stream",
     "text": [
      "LOSS 0.08835514704801471 0.08531949419545191 0.0030356528525627958\n"
     ]
    },
    {
     "name": "stderr",
     "output_type": "stream",
     "text": [
      "# Training:  16%|█▌        | 11/70 [01:08<06:06,  6.22s/it]"
     ]
    },
    {
     "name": "stdout",
     "output_type": "stream",
     "text": [
      "LOSS 0.0881076375397262 0.08520466782873222 0.0029029697109939708\n"
     ]
    },
    {
     "name": "stderr",
     "output_type": "stream",
     "text": [
      "# Training:  17%|█▋        | 12/70 [01:14<05:59,  6.20s/it]"
     ]
    },
    {
     "name": "stdout",
     "output_type": "stream",
     "text": [
      "LOSS 0.08797264441410728 0.08517853070648562 0.002794113707621658\n"
     ]
    },
    {
     "name": "stderr",
     "output_type": "stream",
     "text": [
      "# Training:  19%|█▊        | 13/70 [01:20<05:53,  6.19s/it]"
     ]
    },
    {
     "name": "stdout",
     "output_type": "stream",
     "text": [
      "LOSS 0.08762574556824244 0.08493599290087904 0.002689752667363403\n"
     ]
    },
    {
     "name": "stderr",
     "output_type": "stream",
     "text": [
      "# Training:  20%|██        | 14/70 [01:27<05:47,  6.21s/it]"
     ]
    },
    {
     "name": "stdout",
     "output_type": "stream",
     "text": [
      "LOSS 0.08733690514033311 0.0847474973980283 0.0025894077423048206\n"
     ]
    },
    {
     "name": "stderr",
     "output_type": "stream",
     "text": [
      "# Training:  21%|██▏       | 15/70 [01:34<06:04,  6.63s/it]"
     ]
    },
    {
     "name": "stdout",
     "output_type": "stream",
     "text": [
      "LOSS 0.0873027192810021 0.08481132801209416 0.002491391268907928\n"
     ]
    },
    {
     "name": "stderr",
     "output_type": "stream",
     "text": [
      "# Training:  23%|██▎       | 16/70 [01:42<06:11,  6.88s/it]"
     ]
    },
    {
     "name": "stdout",
     "output_type": "stream",
     "text": [
      "LOSS 0.08720845724848945 0.08479854815282019 0.0024099090956692716\n"
     ]
    },
    {
     "name": "stderr",
     "output_type": "stream",
     "text": [
      "# Training:  24%|██▍       | 17/70 [01:49<06:13,  7.05s/it]"
     ]
    },
    {
     "name": "stdout",
     "output_type": "stream",
     "text": [
      "LOSS 0.0871487847488256 0.08481658271060173 0.002332202038223877\n"
     ]
    },
    {
     "name": "stderr",
     "output_type": "stream",
     "text": [
      "# Training:  26%|██▌       | 18/70 [01:56<06:04,  7.01s/it]"
     ]
    },
    {
     "name": "stdout",
     "output_type": "stream",
     "text": [
      "LOSS 0.08710538687576863 0.0848358277800212 0.0022695590957474317\n"
     ]
    },
    {
     "name": "stderr",
     "output_type": "stream",
     "text": [
      "# Training:  27%|██▋       | 19/70 [02:03<05:59,  7.04s/it]"
     ]
    },
    {
     "name": "stdout",
     "output_type": "stream",
     "text": [
      "LOSS 0.08712207076587694 0.08491265174299126 0.0022094190228856767\n"
     ]
    },
    {
     "name": "stderr",
     "output_type": "stream",
     "text": [
      "# Training:  29%|██▊       | 20/70 [02:09<05:38,  6.78s/it]"
     ]
    },
    {
     "name": "stdout",
     "output_type": "stream",
     "text": [
      "LOSS 0.08708177396279637 0.08493650044586291 0.0021452735169334505\n"
     ]
    },
    {
     "name": "stderr",
     "output_type": "stream",
     "text": [
      "# Training:  30%|███       | 21/70 [02:16<05:25,  6.63s/it]"
     ]
    },
    {
     "name": "stdout",
     "output_type": "stream",
     "text": [
      "LOSS 0.08700372862170185 0.0849119172746817 0.0020918113470201416\n"
     ]
    },
    {
     "name": "stderr",
     "output_type": "stream",
     "text": [
      "# Training:  31%|███▏      | 22/70 [02:22<05:14,  6.56s/it]"
     ]
    },
    {
     "name": "stdout",
     "output_type": "stream",
     "text": [
      "LOSS 0.08685067888768162 0.08480701369425876 0.0020436651934228646\n"
     ]
    },
    {
     "name": "stderr",
     "output_type": "stream",
     "text": [
      "# Training:  33%|███▎      | 23/70 [02:29<05:19,  6.81s/it]"
     ]
    },
    {
     "name": "stdout",
     "output_type": "stream",
     "text": [
      "LOSS 0.08683262647022859 0.08482993766709879 0.0020026888031298073\n"
     ]
    },
    {
     "name": "stderr",
     "output_type": "stream",
     "text": [
      "# Training:  34%|███▍      | 24/70 [02:36<05:13,  6.82s/it]"
     ]
    },
    {
     "name": "stdout",
     "output_type": "stream",
     "text": [
      "LOSS 0.08658693485524055 0.08462302479212 0.0019639100631205523\n"
     ]
    },
    {
     "name": "stderr",
     "output_type": "stream",
     "text": [
      "# Training:  36%|███▌      | 25/70 [02:43<05:09,  6.88s/it]"
     ]
    },
    {
     "name": "stdout",
     "output_type": "stream",
     "text": [
      "LOSS 0.08658668766422652 0.0846671678652915 0.0019195197989350149\n"
     ]
    },
    {
     "name": "stderr",
     "output_type": "stream",
     "text": [
      "# Training:  37%|███▋      | 26/70 [02:50<05:03,  6.90s/it]"
     ]
    },
    {
     "name": "stdout",
     "output_type": "stream",
     "text": [
      "LOSS 0.08655107485039085 0.08467127943146043 0.001879795418930428\n"
     ]
    },
    {
     "name": "stderr",
     "output_type": "stream",
     "text": [
      "# Training:  39%|███▊      | 27/70 [02:57<04:53,  6.82s/it]"
     ]
    },
    {
     "name": "stdout",
     "output_type": "stream",
     "text": [
      "LOSS 0.08620342941180291 0.08435686586592994 0.0018465635458729634\n"
     ]
    },
    {
     "name": "stderr",
     "output_type": "stream",
     "text": [
      "# Training:  40%|████      | 28/70 [03:03<04:42,  6.72s/it]"
     ]
    },
    {
     "name": "stdout",
     "output_type": "stream",
     "text": [
      "LOSS 0.08610425350253711 0.08428916109433376 0.001815092408203356\n"
     ]
    },
    {
     "name": "stderr",
     "output_type": "stream",
     "text": [
      "# Training:  41%|████▏     | 29/70 [03:12<04:52,  7.14s/it]"
     ]
    },
    {
     "name": "stdout",
     "output_type": "stream",
     "text": [
      "LOSS 0.08610013669644244 0.08431348954236259 0.0017866471540798473\n"
     ]
    },
    {
     "name": "stderr",
     "output_type": "stream",
     "text": [
      "# Training:  43%|████▎     | 30/70 [03:19<04:50,  7.26s/it]"
     ]
    },
    {
     "name": "stdout",
     "output_type": "stream",
     "text": [
      "LOSS 0.08608420480019173 0.0843305972591503 0.0017536075410414288\n"
     ]
    },
    {
     "name": "stderr",
     "output_type": "stream",
     "text": [
      "# Training:  44%|████▍     | 31/70 [03:25<04:30,  6.95s/it]"
     ]
    },
    {
     "name": "stdout",
     "output_type": "stream",
     "text": [
      "LOSS 0.08610057803270364 0.08437749329590512 0.0017230847367985282\n"
     ]
    },
    {
     "name": "stderr",
     "output_type": "stream",
     "text": [
      "# Training:  46%|████▌     | 32/70 [03:32<04:23,  6.93s/it]"
     ]
    },
    {
     "name": "stdout",
     "output_type": "stream",
     "text": [
      "LOSS 0.08581593704748465 0.08411775049266598 0.0016981865548186723\n"
     ]
    },
    {
     "name": "stderr",
     "output_type": "stream",
     "text": [
      "# Training:  47%|████▋     | 33/70 [03:38<04:07,  6.69s/it]"
     ]
    },
    {
     "name": "stdout",
     "output_type": "stream",
     "text": [
      "LOSS 0.08584158361451691 0.08416882153339189 0.0016727620811250233\n"
     ]
    },
    {
     "name": "stderr",
     "output_type": "stream",
     "text": [
      "# Training:  49%|████▊     | 34/70 [03:45<03:55,  6.55s/it]"
     ]
    },
    {
     "name": "stdout",
     "output_type": "stream",
     "text": [
      "LOSS 0.08564008766373292 0.08398993875690175 0.00165014890683117\n"
     ]
    },
    {
     "name": "stderr",
     "output_type": "stream",
     "text": [
      "# Training:  50%|█████     | 35/70 [03:51<03:49,  6.54s/it]"
     ]
    },
    {
     "name": "stdout",
     "output_type": "stream",
     "text": [
      "LOSS 0.08560453696626734 0.08397898005727299 0.0016255569089943564\n"
     ]
    },
    {
     "name": "stderr",
     "output_type": "stream",
     "text": [
      "# Training:  51%|█████▏    | 36/70 [03:59<03:52,  6.84s/it]"
     ]
    },
    {
     "name": "stdout",
     "output_type": "stream",
     "text": [
      "LOSS 0.08560159930520804 0.08400081010770198 0.0016007891975060573\n"
     ]
    },
    {
     "name": "stderr",
     "output_type": "stream",
     "text": [
      "# Training:  53%|█████▎    | 37/70 [04:05<03:44,  6.80s/it]"
     ]
    },
    {
     "name": "stdout",
     "output_type": "stream",
     "text": [
      "LOSS 0.0850734658655171 0.08349546854665936 0.0015779973188577445\n"
     ]
    },
    {
     "name": "stderr",
     "output_type": "stream",
     "text": [
      "# Training:  54%|█████▍    | 38/70 [04:11<03:30,  6.59s/it]"
     ]
    },
    {
     "name": "stdout",
     "output_type": "stream",
     "text": [
      "LOSS 0.08507526894609693 0.08351524107313099 0.001560027872965942\n"
     ]
    },
    {
     "name": "stderr",
     "output_type": "stream",
     "text": [
      "# Training:  56%|█████▌    | 39/70 [04:18<03:20,  6.46s/it]"
     ]
    },
    {
     "name": "stdout",
     "output_type": "stream",
     "text": [
      "LOSS 0.08508510856744111 0.0835467049995736 0.0015384035678675046\n"
     ]
    },
    {
     "name": "stderr",
     "output_type": "stream",
     "text": [
      "# Training:  57%|█████▋    | 40/70 [04:24<03:11,  6.38s/it]"
     ]
    },
    {
     "name": "stdout",
     "output_type": "stream",
     "text": [
      "LOSS 0.09753187168391675 0.09587734829251654 0.0016545233914002093\n"
     ]
    },
    {
     "name": "stderr",
     "output_type": "stream",
     "text": [
      "# Training:  59%|█████▊    | 41/70 [04:30<03:01,  6.27s/it]"
     ]
    },
    {
     "name": "stdout",
     "output_type": "stream",
     "text": [
      "LOSS 0.09761381535260565 0.09598194955476505 0.0016318657978406006\n"
     ]
    },
    {
     "name": "stderr",
     "output_type": "stream",
     "text": [
      "# Training:  60%|██████    | 42/70 [04:36<02:54,  6.22s/it]"
     ]
    },
    {
     "name": "stdout",
     "output_type": "stream",
     "text": [
      "LOSS 0.09773809498665746 0.09612614422412621 0.001611950762531252\n"
     ]
    },
    {
     "name": "stderr",
     "output_type": "stream",
     "text": [
      "# Training:  61%|██████▏   | 43/70 [04:42<02:46,  6.18s/it]"
     ]
    },
    {
     "name": "stdout",
     "output_type": "stream",
     "text": [
      "LOSS 0.09835627856114636 0.09676244379139513 0.0015938347697512193\n"
     ]
    },
    {
     "name": "stderr",
     "output_type": "stream",
     "text": [
      "# Training:  63%|██████▎   | 44/70 [04:49<02:49,  6.53s/it]"
     ]
    },
    {
     "name": "stdout",
     "output_type": "stream",
     "text": [
      "LOSS 0.0997174568803073 0.09812501277746317 0.0015924441028441188\n"
     ]
    },
    {
     "name": "stderr",
     "output_type": "stream",
     "text": [
      "# Training:  64%|██████▍   | 45/70 [04:56<02:42,  6.52s/it]"
     ]
    },
    {
     "name": "stdout",
     "output_type": "stream",
     "text": [
      "LOSS 0.1012535138725853 0.09967482908165358 0.0015786847909317245\n"
     ]
    },
    {
     "name": "stderr",
     "output_type": "stream",
     "text": [
      "# Training:  66%|██████▌   | 46/70 [05:03<02:38,  6.60s/it]"
     ]
    },
    {
     "name": "stdout",
     "output_type": "stream",
     "text": [
      "LOSS 0.09975728312478005 0.09816060620114579 0.0015966769236342609\n"
     ]
    },
    {
     "name": "stderr",
     "output_type": "stream",
     "text": [
      "# Training:  67%|██████▋   | 47/70 [05:10<02:35,  6.77s/it]"
     ]
    },
    {
     "name": "stdout",
     "output_type": "stream",
     "text": [
      "LOSS 0.09956027947319501 0.09795880215009221 0.0016014773231028017\n"
     ]
    },
    {
     "name": "stderr",
     "output_type": "stream",
     "text": [
      "# Training:  69%|██████▊   | 48/70 [05:19<02:46,  7.57s/it]"
     ]
    },
    {
     "name": "stdout",
     "output_type": "stream",
     "text": [
      "LOSS 0.09978481218787558 0.09818205696261591 0.001602755225259669\n"
     ]
    },
    {
     "name": "stderr",
     "output_type": "stream",
     "text": [
      "# Training:  70%|███████   | 49/70 [05:29<02:52,  8.20s/it]"
     ]
    },
    {
     "name": "stdout",
     "output_type": "stream",
     "text": [
      "LOSS 0.09887654489106767 0.09727536844454848 0.0016011764465191875\n"
     ]
    },
    {
     "name": "stderr",
     "output_type": "stream",
     "text": [
      "# Training:  71%|███████▏  | 50/70 [05:36<02:38,  7.93s/it]"
     ]
    },
    {
     "name": "stdout",
     "output_type": "stream",
     "text": [
      "LOSS 0.09977988192795319 0.09818197872952787 0.0015979031984253165\n"
     ]
    },
    {
     "name": "stderr",
     "output_type": "stream",
     "text": [
      "# Training:  73%|███████▎  | 51/70 [05:43<02:24,  7.59s/it]"
     ]
    },
    {
     "name": "stdout",
     "output_type": "stream",
     "text": [
      "LOSS 0.09865441028231332 0.09707523806742349 0.0015791722148898344\n"
     ]
    },
    {
     "name": "stderr",
     "output_type": "stream",
     "text": [
      "# Training:  74%|███████▍  | 52/70 [05:50<02:15,  7.51s/it]"
     ]
    },
    {
     "name": "stdout",
     "output_type": "stream",
     "text": [
      "LOSS 0.09887747912084614 0.09733277607702935 0.0015447030438167902\n"
     ]
    },
    {
     "name": "stderr",
     "output_type": "stream",
     "text": [
      "# Training:  76%|███████▌  | 53/70 [05:57<02:02,  7.20s/it]"
     ]
    },
    {
     "name": "stdout",
     "output_type": "stream",
     "text": [
      "LOSS 0.09857185102534104 0.0970357599125272 0.0015360911128138378\n"
     ]
    },
    {
     "name": "stderr",
     "output_type": "stream",
     "text": [
      "# Training:  77%|███████▋  | 54/70 [06:03<01:51,  6.95s/it]"
     ]
    },
    {
     "name": "stdout",
     "output_type": "stream",
     "text": [
      "LOSS 0.09862656088092923 0.09708060924073328 0.0015459516401959603\n"
     ]
    },
    {
     "name": "stderr",
     "output_type": "stream",
     "text": [
      "# Training:  79%|███████▊  | 55/70 [06:09<01:41,  6.76s/it]"
     ]
    },
    {
     "name": "stdout",
     "output_type": "stream",
     "text": [
      "LOSS 0.09856360378725192 0.097037365285325 0.0015262385019269187\n"
     ]
    },
    {
     "name": "stderr",
     "output_type": "stream",
     "text": [
      "# Training:  80%|████████  | 56/70 [06:16<01:35,  6.79s/it]"
     ]
    },
    {
     "name": "stdout",
     "output_type": "stream",
     "text": [
      "LOSS 0.09811614379290809 0.09663316855243094 0.0014829752404771533\n"
     ]
    },
    {
     "name": "stderr",
     "output_type": "stream",
     "text": [
      "# Training:  81%|████████▏ | 57/70 [06:24<01:30,  6.99s/it]"
     ]
    },
    {
     "name": "stdout",
     "output_type": "stream",
     "text": [
      "LOSS 0.09827751138317743 0.0968185949135263 0.00145891646965113\n"
     ]
    },
    {
     "name": "stderr",
     "output_type": "stream",
     "text": [
      "# Training:  83%|████████▎ | 58/70 [06:30<01:21,  6.77s/it]"
     ]
    },
    {
     "name": "stdout",
     "output_type": "stream",
     "text": [
      "LOSS 0.0979839061480783 0.09653468153482342 0.0014492246132548825\n"
     ]
    },
    {
     "name": "stderr",
     "output_type": "stream",
     "text": [
      "# Training:  84%|████████▍ | 59/70 [06:36<01:12,  6.58s/it]"
     ]
    },
    {
     "name": "stdout",
     "output_type": "stream",
     "text": [
      "LOSS 0.0982896231355571 0.09684971203290373 0.0014399111026533705\n"
     ]
    },
    {
     "name": "stderr",
     "output_type": "stream",
     "text": [
      "# Training:  86%|████████▌ | 60/70 [06:43<01:06,  6.65s/it]"
     ]
    },
    {
     "name": "stdout",
     "output_type": "stream",
     "text": [
      "LOSS 0.09780265645689197 0.09637864300210344 0.0014240134547885324\n"
     ]
    },
    {
     "name": "stderr",
     "output_type": "stream",
     "text": [
      "# Training:  87%|████████▋ | 61/70 [06:50<01:00,  6.77s/it]"
     ]
    },
    {
     "name": "stdout",
     "output_type": "stream",
     "text": [
      "LOSS 0.09797442220000303 0.09657173944131972 0.0014026827586833086\n"
     ]
    },
    {
     "name": "stderr",
     "output_type": "stream",
     "text": [
      "# Training:  89%|████████▊ | 62/70 [06:57<00:54,  6.84s/it]"
     ]
    },
    {
     "name": "stdout",
     "output_type": "stream",
     "text": [
      "LOSS 0.09793701834894754 0.09655705600935238 0.0013799623395951582\n"
     ]
    },
    {
     "name": "stderr",
     "output_type": "stream",
     "text": [
      "# Training:  90%|█████████ | 63/70 [07:04<00:47,  6.81s/it]"
     ]
    },
    {
     "name": "stdout",
     "output_type": "stream",
     "text": [
      "LOSS 0.09792534094895461 0.09655651389722829 0.001368827051726327\n"
     ]
    },
    {
     "name": "stderr",
     "output_type": "stream",
     "text": [
      "# Training:  91%|█████████▏| 64/70 [07:10<00:39,  6.61s/it]"
     ]
    },
    {
     "name": "stdout",
     "output_type": "stream",
     "text": [
      "LOSS 0.09806507252922132 0.09670392239319837 0.0013611501360229522\n"
     ]
    },
    {
     "name": "stderr",
     "output_type": "stream",
     "text": [
      "# Training:  93%|█████████▎| 65/70 [07:16<00:32,  6.49s/it]"
     ]
    },
    {
     "name": "stdout",
     "output_type": "stream",
     "text": [
      "LOSS 0.09785376133533744 0.09651316929083595 0.0013405920445014887\n"
     ]
    },
    {
     "name": "stderr",
     "output_type": "stream",
     "text": [
      "# Training:  94%|█████████▍| 66/70 [07:22<00:25,  6.39s/it]"
     ]
    },
    {
     "name": "stdout",
     "output_type": "stream",
     "text": [
      "LOSS 0.09805881471232757 0.09673610940403864 0.0013227053082889293\n"
     ]
    },
    {
     "name": "stderr",
     "output_type": "stream",
     "text": [
      "# Training:  96%|█████████▌| 67/70 [07:28<00:18,  6.29s/it]"
     ]
    },
    {
     "name": "stdout",
     "output_type": "stream",
     "text": [
      "LOSS 0.09790111308399703 0.09658471341171836 0.0013163996722786698\n"
     ]
    },
    {
     "name": "stderr",
     "output_type": "stream",
     "text": [
      "# Training:  97%|█████████▋| 68/70 [07:35<00:12,  6.26s/it]"
     ]
    },
    {
     "name": "stdout",
     "output_type": "stream",
     "text": [
      "LOSS 0.09794092539793783 0.09663131199502605 0.0013096134029117923\n"
     ]
    },
    {
     "name": "stderr",
     "output_type": "stream",
     "text": [
      "# Training:  99%|█████████▊| 69/70 [07:41<00:06,  6.44s/it]"
     ]
    },
    {
     "name": "stdout",
     "output_type": "stream",
     "text": [
      "LOSS 0.09789832367110017 0.09660243129523864 0.0012958923758615351\n"
     ]
    },
    {
     "name": "stderr",
     "output_type": "stream",
     "text": [
      "# Training: 100%|██████████| 70/70 [07:48<00:00,  6.70s/it]\n"
     ]
    },
    {
     "name": "stdout",
     "output_type": "stream",
     "text": [
      "# Finished. Training Loss: 0.097898\n",
      "Epoch Loss 0.09207027334834253\n",
      "22.8 minutes\n"
     ]
    }
   ],
   "source": [
    "# from sklearn.model_selection import train_test_split\n",
    "from torch.utils.data import DataLoader\n",
    "import time\n",
    "\n",
    "# training_data,test_data = train_test_split(XJets,test_size=0.15)\n",
    "train_ds = HDF5DataSet(XJets)\n",
    "test_ds = HDF5DataSet(XJets)\n",
    "sampler = [i for i in range(40)]\n",
    "sampler.extend([i for i in range(60,90)])\n",
    "# train_dl = DataLoader(train_ds, batch_size=None,sampler=range(int(len(train_ds)/BATCH_SIZE)))\n",
    "train_dl = DataLoader(train_ds, batch_size=None,sampler=sampler)\n",
    "test_sampler=range(90,100)\n",
    "test_dl = DataLoader(test_ds, batch_size=None, sampler=test_sampler)\n",
    "model = VAE()\n",
    "optimizer = torch.optim.Adam(model.parameters(), lr=LR)\n",
    "\n",
    "train_loss = []\n",
    "mse=[]\n",
    "kld=[]\n",
    "val_loss = []\n",
    "start = time.time()\n",
    "\n",
    "for epoch in range(1,epochs+1):\n",
    "    KLD_WEIGHT/=10**(epoch%3-1)\n",
    "    # LR/=10**(epoch%3==0)\n",
    "    print(f\"Epoch {epoch} of {epochs} with LR {LR} and KLD Weight {KLD_WEIGHT}\")\n",
    "    train_epoch_loss, mse_loss_fit, regularizer_loss_fit = fit(\n",
    "        model=model,\n",
    "        train_dl=train_dl,\n",
    "        train_ds=train_ds,\n",
    "        optimizer=optimizer\n",
    "    )\n",
    "    print('Epoch Loss',train_epoch_loss)\n",
    "    train_loss.append(train_epoch_loss)\n",
    "    torch.save(model.state_dict(),'./model1.pt')\n",
    "\n",
    "end = time.time()\n",
    "\n",
    "print(f\"{(end - start) / 60:.3} minutes\")\n",
    "\n",
    "# data_as_tensor = torch.tensor(test_data.values, dtype=torch.float64)\n",
    "# data_as_tensor = data_as_tensor.to(model.device)\n",
    "# pred_as_tensor = model(data_as_tensor)\n",
    "\n"
   ]
  },
  {
   "cell_type": "code",
   "execution_count": 17,
   "metadata": {},
   "outputs": [],
   "source": [
    "# print(model.state_dict())\n",
    "torch.save(model.state_dict(),'./model1.pt')"
   ]
  },
  {
   "cell_type": "code",
   "execution_count": 18,
   "metadata": {},
   "outputs": [
    {
     "data": {
      "image/png": "[encoded data removed]",
      "text/plain": [
       "<Figure size 432x288 with 1 Axes>"
      ]
     },
     "metadata": {
      "needs_background": "light"
     },
     "output_type": "display_data"
    }
   ],
   "source": [
    "from matplotlib import pyplot\n",
    "\n",
    "pyplot.plot([i.detach() for i in mse],label='MSE Loss')\n",
    "pyplot.plot([i.detach() for i in kld],label='KLD Loss')\n",
    "pyplot.legend()\n",
    "pyplot.show()"
   ]
  },
  {
   "cell_type": "code",
   "execution_count": 19,
   "metadata": {},
   "outputs": [
    {
     "name": "stdout",
     "output_type": "stream",
     "text": [
      "### Beginning Training\n"
     ]
    },
    {
     "name": "stderr",
     "output_type": "stream",
     "text": [
      "# Training:  10%|█         | 1/10 [00:04<00:39,  4.44s/it]"
     ]
    },
    {
     "name": "stdout",
     "output_type": "stream",
     "text": [
      "TEST LOSS 0.09780900136292947 0.09652979064125113 0.0012792107216783423\n"
     ]
    },
    {
     "name": "stderr",
     "output_type": "stream",
     "text": [
      "# Training:  20%|██        | 2/10 [00:08<00:32,  4.03s/it]"
     ]
    },
    {
     "name": "stdout",
     "output_type": "stream",
     "text": [
      "TEST LOSS 0.0978522101929162 0.09657204012332136 0.0012801700695948444\n"
     ]
    },
    {
     "name": "stderr",
     "output_type": "stream",
     "text": [
      "# Training:  30%|███       | 3/10 [00:11<00:27,  3.87s/it]"
     ]
    },
    {
     "name": "stdout",
     "output_type": "stream",
     "text": [
      "TEST LOSS 0.09784240302205814 0.0965609969835596 0.0012814060384985313\n"
     ]
    },
    {
     "name": "stderr",
     "output_type": "stream",
     "text": [
      "# Training:  40%|████      | 4/10 [00:15<00:22,  3.81s/it]"
     ]
    },
    {
     "name": "stdout",
     "output_type": "stream",
     "text": [
      "TEST LOSS 0.09767529659330983 0.09639274958591118 0.00128254700739864\n"
     ]
    },
    {
     "name": "stderr",
     "output_type": "stream",
     "text": [
      "# Training:  50%|█████     | 5/10 [00:19<00:19,  3.83s/it]"
     ]
    },
    {
     "name": "stdout",
     "output_type": "stream",
     "text": [
      "TEST LOSS 0.09772553774986148 0.09644249480193477 0.0012830429479267131\n"
     ]
    },
    {
     "name": "stderr",
     "output_type": "stream",
     "text": [
      "# Training:  60%|██████    | 6/10 [00:23<00:15,  3.90s/it]"
     ]
    },
    {
     "name": "stdout",
     "output_type": "stream",
     "text": [
      "TEST LOSS 0.09781896532767824 0.09653483510302818 0.001284130224650055\n"
     ]
    },
    {
     "name": "stderr",
     "output_type": "stream",
     "text": [
      "# Training:  70%|███████   | 7/10 [00:27<00:11,  3.89s/it]"
     ]
    },
    {
     "name": "stdout",
     "output_type": "stream",
     "text": [
      "TEST LOSS 0.09731132396704628 0.09602598976200928 0.0012853342050370019\n"
     ]
    },
    {
     "name": "stderr",
     "output_type": "stream",
     "text": [
      "# Training:  80%|████████  | 8/10 [00:31<00:07,  3.90s/it]"
     ]
    },
    {
     "name": "stdout",
     "output_type": "stream",
     "text": [
      "TEST LOSS 0.09740468891634174 0.09612040262463901 0.0012842862917027216\n"
     ]
    },
    {
     "name": "stderr",
     "output_type": "stream",
     "text": [
      "# Training:  90%|█████████ | 9/10 [00:35<00:03,  3.92s/it]"
     ]
    },
    {
     "name": "stdout",
     "output_type": "stream",
     "text": [
      "TEST LOSS 0.09739287224363538 0.09610740759229165 0.0012854646513437262\n"
     ]
    },
    {
     "name": "stderr",
     "output_type": "stream",
     "text": [
      "# Training: 100%|██████████| 10/10 [00:40<00:00,  4.01s/it]"
     ]
    },
    {
     "name": "stdout",
     "output_type": "stream",
     "text": [
      "TEST LOSS 0.09744218234219285 0.0961627757506057 0.0012794065915871574\n",
      "# Finished. Test Loss: 0.097442\n"
     ]
    },
    {
     "name": "stderr",
     "output_type": "stream",
     "text": [
      "\n"
     ]
    },
    {
     "data": {
      "text/plain": [
       "(0.09762744817179696,\n",
       " tensor(0.0962, dtype=torch.float64),\n",
       " tensor(0.0013, dtype=torch.float64))"
      ]
     },
     "execution_count": 19,
     "metadata": {},
     "output_type": "execute_result"
    }
   ],
   "source": [
    "test(model,test_dl,test_ds)"
   ]
  },
  {
   "cell_type": "code",
   "execution_count": 11,
   "metadata": {},
   "outputs": [
    {
     "name": "stderr",
     "output_type": "stream",
     "text": [
      "Clipping input data to the valid range for imshow with RGB data ([0..1] for floats or [0..255] for integers).\n",
      "Clipping input data to the valid range for imshow with RGB data ([0..1] for floats or [0..255] for integers).\n",
      "Clipping input data to the valid range for imshow with RGB data ([0..1] for floats or [0..255] for integers).\n"
     ]
    },
    {
     "data": {
      "image/png": "[encoded data removed]",
      "text/plain": [
       "<Figure size 432x288 with 3 Axes>"
      ]
     },
     "metadata": {
      "needs_background": "light"
     },
     "output_type": "display_data"
    },
    {
     "name": "stderr",
     "output_type": "stream",
     "text": [
      "Clipping input data to the valid range for imshow with RGB data ([0..1] for floats or [0..255] for integers).\n",
      "Clipping input data to the valid range for imshow with RGB data ([0..1] for floats or [0..255] for integers).\n",
      "Clipping input data to the valid range for imshow with RGB data ([0..1] for floats or [0..255] for integers).\n"
     ]
    },
    {
     "data": {
      "image/png": "[encoded data removed]",
      "text/plain": [
       "<Figure size 432x288 with 3 Axes>"
      ]
     },
     "metadata": {
      "needs_background": "light"
     },
     "output_type": "display_data"
    },
    {
     "name": "stderr",
     "output_type": "stream",
     "text": [
      "Clipping input data to the valid range for imshow with RGB data ([0..1] for floats or [0..255] for integers).\n",
      "Clipping input data to the valid range for imshow with RGB data ([0..1] for floats or [0..255] for integers).\n",
      "Clipping input data to the valid range for imshow with RGB data ([0..1] for floats or [0..255] for integers).\n"
     ]
    },
    {
     "data": {
      "image/png": "[encoded data removed]",
      "text/plain": [
       "<Figure size 432x288 with 3 Axes>"
      ]
     },
     "metadata": {
      "needs_background": "light"
     },
     "output_type": "display_data"
    },
    {
     "name": "stderr",
     "output_type": "stream",
     "text": [
      "Clipping input data to the valid range for imshow with RGB data ([0..1] for floats or [0..255] for integers).\n",
      "Clipping input data to the valid range for imshow with RGB data ([0..1] for floats or [0..255] for integers).\n",
      "Clipping input data to the valid range for imshow with RGB data ([0..1] for floats or [0..255] for integers).\n"
     ]
    },
    {
     "data": {
      "image/png": "[encoded data removed]",
      "text/plain": [
       "<Figure size 432x288 with 3 Axes>"
      ]
     },
     "metadata": {
      "needs_background": "light"
     },
     "output_type": "display_data"
    },
    {
     "name": "stderr",
     "output_type": "stream",
     "text": [
      "Clipping input data to the valid range for imshow with RGB data ([0..1] for floats or [0..255] for integers).\n",
      "Clipping input data to the valid range for imshow with RGB data ([0..1] for floats or [0..255] for integers).\n",
      "Clipping input data to the valid range for imshow with RGB data ([0..1] for floats or [0..255] for integers).\n"
     ]
    },
    {
     "data": {
      "image/png": "[encoded data removed]",
      "text/plain": [
       "<Figure size 432x288 with 3 Axes>"
      ]
     },
     "metadata": {
      "needs_background": "light"
     },
     "output_type": "display_data"
    },
    {
     "name": "stderr",
     "output_type": "stream",
     "text": [
      "Clipping input data to the valid range for imshow with RGB data ([0..1] for floats or [0..255] for integers).\n",
      "Clipping input data to the valid range for imshow with RGB data ([0..1] for floats or [0..255] for integers).\n",
      "Clipping input data to the valid range for imshow with RGB data ([0..1] for floats or [0..255] for integers).\n"
     ]
    },
    {
     "data": {
      "image/png": "[encoded data removed]",
      "text/plain": [
       "<Figure size 432x288 with 3 Axes>"
      ]
     },
     "metadata": {
      "needs_background": "light"
     },
     "output_type": "display_data"
    },
    {
     "name": "stderr",
     "output_type": "stream",
     "text": [
      "Clipping input data to the valid range for imshow with RGB data ([0..1] for floats or [0..255] for integers).\n",
      "Clipping input data to the valid range for imshow with RGB data ([0..1] for floats or [0..255] for integers).\n",
      "Clipping input data to the valid range for imshow with RGB data ([0..1] for floats or [0..255] for integers).\n"
     ]
    },
    {
     "data": {
      "image/png": "[encoded data removed]",
      "text/plain": [
       "<Figure size 432x288 with 3 Axes>"
      ]
     },
     "metadata": {
      "needs_background": "light"
     },
     "output_type": "display_data"
    },
    {
     "name": "stderr",
     "output_type": "stream",
     "text": [
      "Clipping input data to the valid range for imshow with RGB data ([0..1] for floats or [0..255] for integers).\n",
      "Clipping input data to the valid range for imshow with RGB data ([0..1] for floats or [0..255] for integers).\n",
      "Clipping input data to the valid range for imshow with RGB data ([0..1] for floats or [0..255] for integers).\n"
     ]
    },
    {
     "data": {
      "image/png": "[encoded data removed]",
      "text/plain": [
       "<Figure size 432x288 with 3 Axes>"
      ]
     },
     "metadata": {
      "needs_background": "light"
     },
     "output_type": "display_data"
    },
    {
     "name": "stderr",
     "output_type": "stream",
     "text": [
      "Clipping input data to the valid range for imshow with RGB data ([0..1] for floats or [0..255] for integers).\n",
      "Clipping input data to the valid range for imshow with RGB data ([0..1] for floats or [0..255] for integers).\n",
      "Clipping input data to the valid range for imshow with RGB data ([0..1] for floats or [0..255] for integers).\n"
     ]
    },
    {
     "data": {
      "image/png": "[encoded data removed]",
      "text/plain": [
       "<Figure size 432x288 with 3 Axes>"
      ]
     },
     "metadata": {
      "needs_background": "light"
     },
     "output_type": "display_data"
    },
    {
     "name": "stderr",
     "output_type": "stream",
     "text": [
      "Clipping input data to the valid range for imshow with RGB data ([0..1] for floats or [0..255] for integers).\n",
      "Clipping input data to the valid range for imshow with RGB data ([0..1] for floats or [0..255] for integers).\n",
      "Clipping input data to the valid range for imshow with RGB data ([0..1] for floats or [0..255] for integers).\n"
     ]
    },
    {
     "data": {
      "image/png": "[encoded data removed]",
      "text/plain": [
       "<Figure size 432x288 with 3 Axes>"
      ]
     },
     "metadata": {
      "needs_background": "light"
     },
     "output_type": "display_data"
    }
   ],
   "source": [
    "import cv2\n",
    "import torch\n",
    "from matplotlib import pyplot\n",
    "from torchvision.transforms import Resize\n",
    "import sys\n",
    "import numpy\n",
    "numpy.set_printoptions(threshold=sys.maxsize)\n",
    "model=VAE()\n",
    "model.load_state_dict(torch.load('./model1.pt'))\n",
    "f1 = open('reco.txt','w+')\n",
    "f2 = open('og.txt','w+')\n",
    "for i in range(10):\n",
    "    original = Resize((50,50))(torch.permute(torch.tensor(XJets[i*2000+00000], dtype= torch.float64),(2,0,1))).reshape(-1,50*50*3)\n",
    "\n",
    "    # original = Resize(50)(torch.tensor(XJets[i*2000+60000], dtype= torch.float64).reshape(3,50,50)).reshape(50*50*3)\n",
    "    og = torch.tensor(XJets[i*2000+00000], dtype= torch.float64)\n",
    "    og = (og-og.min())/(og.max()-og.min())*255\n",
    "    original = (original-original.min())/(original.max()-original.min())*255\n",
    "    reconstructed = torch.permute(model(original)[0].reshape(3,50,50),(1,2,0))\n",
    "    reconstructed = (reconstructed-reconstructed.min())/(reconstructed.max()-reconstructed.min())*255\n",
    "    original = torch.permute(original.reshape(3,50,50),(1,2,0)).detach()\n",
    "    original = original.detach().numpy()\n",
    "    reconstructed = reconstructed.detach().numpy()\n",
    "    fig,axs = pyplot.subplots(1,3)\n",
    "    f1.write(np.array2string(reconstructed))\n",
    "    f2.write(np.array2string(original))\n",
    "    # print(original)\n",
    "    # print(reconstructed)\n",
    "    axs[0].imshow(og)\n",
    "    axs[1].imshow(original)\n",
    "    axs[2].imshow(reconstructed)\n",
    "    pyplot.show()"
   ]
  }
 ],
 "metadata": {
  "kernelspec": {
   "display_name": "Python 3",
   "language": "python",
   "name": "python3"
  },
  "language_info": {
   "codemirror_mode": {
    "name": "ipython",
    "version": 3
   },
   "file_extension": ".py",
   "mimetype": "text/x-python",
   "name": "python",
   "nbconvert_exporter": "python",
   "pygments_lexer": "ipython3",
   "version": "3.10.0"
  },
  "orig_nbformat": 4
 },
 "nbformat": 4,
 "nbformat_minor": 2
}
